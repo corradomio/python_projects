{
 "cells": [
  {
   "cell_type": "markdown",
   "metadata": {
    "id": "glYHP4-7Jp--"
   },
   "source": [
    "# Time Series Classification using Convolutional Neural Networks in PyTorch\n"
   ]
  },
  {
   "cell_type": "code",
   "execution_count": 2,
   "metadata": {
    "colab": {
     "base_uri": "https://localhost:8080/"
    },
    "executionInfo": {
     "elapsed": 6172,
     "status": "ok",
     "timestamp": 1634649588769,
     "user": {
      "displayName": "boming ning",
      "photoUrl": "https://lh3.googleusercontent.com/a/default-user=s64",
      "userId": "00061440317593426504"
     },
     "user_tz": 240
    },
    "id": "sFBq-ur9Jp-_",
    "outputId": "8371a011-e2ec-4f52-b063-de55b8cd6cb2"
   },
   "outputs": [
    {
     "name": "stdout",
     "output_type": "stream",
     "text": [
      "Collecting yfinance\n",
      "  Downloading yfinance-0.1.63.tar.gz (26 kB)\n",
      "Requirement already satisfied: pandas>=0.24 in /usr/local/lib/python3.7/dist-packages (from yfinance) (1.1.5)\n",
      "Requirement already satisfied: numpy>=1.15 in /usr/local/lib/python3.7/dist-packages (from yfinance) (1.19.5)\n",
      "Requirement already satisfied: requests>=2.20 in /usr/local/lib/python3.7/dist-packages (from yfinance) (2.23.0)\n",
      "Requirement already satisfied: multitasking>=0.0.7 in /usr/local/lib/python3.7/dist-packages (from yfinance) (0.0.9)\n",
      "Collecting lxml>=4.5.1\n",
      "  Downloading lxml-4.6.3-cp37-cp37m-manylinux2014_x86_64.whl (6.3 MB)\n",
      "\u001B[K     |████████████████████████████████| 6.3 MB 7.8 MB/s \n",
      "\u001B[?25hRequirement already satisfied: pytz>=2017.2 in /usr/local/lib/python3.7/dist-packages (from pandas>=0.24->yfinance) (2018.9)\n",
      "Requirement already satisfied: python-dateutil>=2.7.3 in /usr/local/lib/python3.7/dist-packages (from pandas>=0.24->yfinance) (2.8.2)\n",
      "Requirement already satisfied: six>=1.5 in /usr/local/lib/python3.7/dist-packages (from python-dateutil>=2.7.3->pandas>=0.24->yfinance) (1.15.0)\n",
      "Requirement already satisfied: idna<3,>=2.5 in /usr/local/lib/python3.7/dist-packages (from requests>=2.20->yfinance) (2.10)\n",
      "Requirement already satisfied: certifi>=2017.4.17 in /usr/local/lib/python3.7/dist-packages (from requests>=2.20->yfinance) (2021.5.30)\n",
      "Requirement already satisfied: chardet<4,>=3.0.2 in /usr/local/lib/python3.7/dist-packages (from requests>=2.20->yfinance) (3.0.4)\n",
      "Requirement already satisfied: urllib3!=1.25.0,!=1.25.1,<1.26,>=1.21.1 in /usr/local/lib/python3.7/dist-packages (from requests>=2.20->yfinance) (1.24.3)\n",
      "Building wheels for collected packages: yfinance\n",
      "  Building wheel for yfinance (setup.py) ... \u001B[?25l\u001B[?25hdone\n",
      "  Created wheel for yfinance: filename=yfinance-0.1.63-py2.py3-none-any.whl size=23918 sha256=95a1de6333e55d39b3206b3e83031864dc097a7aa66e873567452d8ffde3eaba\n",
      "  Stored in directory: /root/.cache/pip/wheels/fe/87/8b/7ec24486e001d3926537f5f7801f57a74d181be25b11157983\n",
      "Successfully built yfinance\n",
      "Installing collected packages: lxml, yfinance\n",
      "  Attempting uninstall: lxml\n",
      "    Found existing installation: lxml 4.2.6\n",
      "    Uninstalling lxml-4.2.6:\n",
      "      Successfully uninstalled lxml-4.2.6\n",
      "Successfully installed lxml-4.6.3 yfinance-0.1.63\n"
     ]
    }
   ],
   "source": [
    "# Uncomment and run the appropriate command for your operating system, if required\n",
    "\n",
    "# Linux / Binder / Windows (No GPU)\n",
    "# !pip install numpy matplotlib torch==1.7.0+cpu torchvision==0.8.1+cpu torchaudio==0.7.0 -f https://download.pytorch.org/whl/torch_stable.html\n",
    "\n",
    "# Linux / Windows (GPU)\n",
    "# pip install torch==1.7.1+cu110 torchvision==0.8.2+cu110 torchaudio==0.7.2 -f https://download.pytorch.org/whl/torch_stable.html\n",
    " \n",
    "# MacOS (NO GPU)\n",
    "# !pip install numpy matplotlib torch torchvision torchaudio\n",
    "# !pip install yfinance"
   ]
  },
  {
   "cell_type": "code",
   "execution_count": 1,
   "metadata": {
    "executionInfo": {
     "elapsed": 25188,
     "status": "ok",
     "timestamp": 1634649613951,
     "user": {
      "displayName": "boming ning",
      "photoUrl": "https://lh3.googleusercontent.com/a/default-user=s64",
      "userId": "00061440317593426504"
     },
     "user_tz": 240
    },
    "id": "TkOhVp1FJp_A",
    "ExecuteTime": {
     "end_time": "2023-06-05T12:38:55.065271500Z",
     "start_time": "2023-06-05T12:38:45.393735500Z"
    }
   },
   "outputs": [],
   "source": [
    "import numpy as np\n",
    "import torch\n",
    "import yfinance as yf"
   ]
  },
  {
   "cell_type": "code",
   "execution_count": 2,
   "metadata": {
    "executionInfo": {
     "elapsed": 104,
     "status": "ok",
     "timestamp": 1634649618246,
     "user": {
      "displayName": "boming ning",
      "photoUrl": "https://lh3.googleusercontent.com/a/default-user=s64",
      "userId": "00061440317593426504"
     },
     "user_tz": 240
    },
    "id": "ImubC3HRJp_A",
    "ExecuteTime": {
     "end_time": "2023-06-05T12:38:58.153809600Z",
     "start_time": "2023-06-05T12:38:58.012810500Z"
    }
   },
   "outputs": [],
   "source": [
    "project_name='time_series_classification_cnn'"
   ]
  },
  {
   "cell_type": "markdown",
   "metadata": {
    "id": "VkBn_XvbJp_A"
   },
   "source": [
    "We'll download the stock prices from yfinance"
   ]
  },
  {
   "cell_type": "code",
   "execution_count": 3,
   "metadata": {
    "executionInfo": {
     "elapsed": 104,
     "status": "ok",
     "timestamp": 1634649619399,
     "user": {
      "displayName": "boming ning",
      "photoUrl": "https://lh3.googleusercontent.com/a/default-user=s64",
      "userId": "00061440317593426504"
     },
     "user_tz": 240
    },
    "id": "xazKUTC4Jp_A",
    "ExecuteTime": {
     "end_time": "2023-06-05T12:39:01.351941100Z",
     "start_time": "2023-06-05T12:39:01.089939200Z"
    }
   },
   "outputs": [],
   "source": [
    "# Dowload the dataset\n",
    "def get_data( name: str ):\n",
    "  data = yf.download(name, start=\"2020-01-01\", end=\"2021-01-01\", interval = \"1d\")\n",
    "  close_price = np.array(data['Close'])\n",
    "  return close_price"
   ]
  },
  {
   "cell_type": "code",
   "execution_count": 4,
   "metadata": {
    "colab": {
     "base_uri": "https://localhost:8080/"
    },
    "executionInfo": {
     "elapsed": 2037,
     "status": "ok",
     "timestamp": 1634649622849,
     "user": {
      "displayName": "boming ning",
      "photoUrl": "https://lh3.googleusercontent.com/a/default-user=s64",
      "userId": "00061440317593426504"
     },
     "user_tz": 240
    },
    "id": "LF_8NbHiJp_C",
    "outputId": "ee1345d7-95d1-4ec6-e071-c5b38ebe2899",
    "ExecuteTime": {
     "end_time": "2023-06-05T12:39:16.010577900Z",
     "start_time": "2023-06-05T12:39:02.616937300Z"
    }
   },
   "outputs": [
    {
     "name": "stdout",
     "output_type": "stream",
     "text": [
      "[*********************100%***********************]  1 of 1 completed\n",
      "[*********************100%***********************]  1 of 1 completed\n",
      "[*********************100%***********************]  1 of 1 completed\n",
      "[*********************100%***********************]  1 of 1 completed\n",
      "[*********************100%***********************]  1 of 1 completed\n",
      "[*********************100%***********************]  1 of 1 completed\n",
      "[*********************100%***********************]  1 of 1 completed\n",
      "[*********************100%***********************]  1 of 1 completed\n",
      "[*********************100%***********************]  1 of 1 completed\n",
      "[*********************100%***********************]  1 of 1 completed\n"
     ]
    }
   ],
   "source": [
    "# Download data\n",
    "train_name = ['WM', 'NOC', 'XOM', 'V', 'BAC'] \n",
    "test_name = ['RSG', 'LMT', 'CVX', 'MA', 'JPM']\n",
    "train_prices = []\n",
    "test_prices = []\n",
    "for name in train_name:\n",
    "  train_prices.append(get_data(name)[0:250])\n",
    "for name in test_name:\n",
    "  test_prices.append(get_data(name)[0:250])"
   ]
  },
  {
   "cell_type": "code",
   "execution_count": 5,
   "metadata": {
    "executionInfo": {
     "elapsed": 134,
     "status": "ok",
     "timestamp": 1634649623661,
     "user": {
      "displayName": "boming ning",
      "photoUrl": "https://lh3.googleusercontent.com/a/default-user=s64",
      "userId": "00061440317593426504"
     },
     "user_tz": 240
    },
    "id": "_0s-gyLXR4vQ",
    "ExecuteTime": {
     "end_time": "2023-06-05T12:48:00.447081700Z",
     "start_time": "2023-06-05T12:48:00.385084700Z"
    }
   },
   "outputs": [],
   "source": [
    "# Convert data to nparray\n",
    "train_prices = np.array(train_prices)\n",
    "test_prices = np.array(test_prices)\n",
    "\n",
    "# Define a fillna function\n",
    "def fillna(prices):\n",
    "  # Obtain mean of columns as you need, nanmean is convenient.\n",
    "  row_mean = np.nanmean(prices, axis=1)\n",
    "  # Find indices that you need to replace\n",
    "  inds = np.where(np.isnan(prices))\n",
    "  # Place column means in the indices. \n",
    "  prices[inds] = np.take(row_mean, inds[0])\n",
    "  return prices\n",
    "\n",
    "# Fillna\n",
    "train_prices = fillna(train_prices)\n",
    "test_prices = fillna(test_prices)"
   ]
  },
  {
   "cell_type": "code",
   "execution_count": 6,
   "metadata": {
    "executionInfo": {
     "elapsed": 75,
     "status": "ok",
     "timestamp": 1634649624114,
     "user": {
      "displayName": "boming ning",
      "photoUrl": "https://lh3.googleusercontent.com/a/default-user=s64",
      "userId": "00061440317593426504"
     },
     "user_tz": 240
    },
    "id": "KPA-qkaOaskd",
    "ExecuteTime": {
     "end_time": "2023-06-05T12:48:01.780369200Z",
     "start_time": "2023-06-05T12:48:01.636367100Z"
    }
   },
   "outputs": [],
   "source": [
    "train_prices = train_prices.reshape((5, 1, 250))\n",
    "test_prices = test_prices.reshape((5, 1, 250))"
   ]
  },
  {
   "cell_type": "markdown",
   "metadata": {
    "id": "wF5kv2I3Jp_D"
   },
   "source": [
    "Labelling"
   ]
  },
  {
   "cell_type": "code",
   "execution_count": 7,
   "metadata": {
    "executionInfo": {
     "elapsed": 77,
     "status": "ok",
     "timestamp": 1634649626663,
     "user": {
      "displayName": "boming ning",
      "photoUrl": "https://lh3.googleusercontent.com/a/default-user=s64",
      "userId": "00061440317593426504"
     },
     "user_tz": 240
    },
    "id": "4KWJQRGhkXbU",
    "ExecuteTime": {
     "end_time": "2023-06-05T12:48:04.154889600Z",
     "start_time": "2023-06-05T12:48:04.075893200Z"
    }
   },
   "outputs": [],
   "source": [
    "# transfer ndarray to tensor\n",
    "train_prices = torch.from_numpy(train_prices).type(torch.float32)\n",
    "test_prices = torch.from_numpy(test_prices).type(torch.float32)"
   ]
  },
  {
   "cell_type": "code",
   "execution_count": 8,
   "metadata": {
    "colab": {
     "base_uri": "https://localhost:8080/"
    },
    "executionInfo": {
     "elapsed": 94,
     "status": "ok",
     "timestamp": 1634649628150,
     "user": {
      "displayName": "boming ning",
      "photoUrl": "https://lh3.googleusercontent.com/a/default-user=s64",
      "userId": "00061440317593426504"
     },
     "user_tz": 240
    },
    "id": "Cfb_cBrvScro",
    "outputId": "fe640c95-c640-407e-e741-cef0139cf987",
    "ExecuteTime": {
     "end_time": "2023-06-05T12:48:06.085892800Z",
     "start_time": "2023-06-05T12:48:05.998893600Z"
    }
   },
   "outputs": [
    {
     "data": {
      "text/plain": "torch.Size([5, 1, 250])"
     },
     "execution_count": 8,
     "metadata": {},
     "output_type": "execute_result"
    }
   ],
   "source": [
    "train_prices.shape"
   ]
  },
  {
   "cell_type": "code",
   "execution_count": 9,
   "metadata": {
    "executionInfo": {
     "elapsed": 96,
     "status": "ok",
     "timestamp": 1634649629624,
     "user": {
      "displayName": "boming ning",
      "photoUrl": "https://lh3.googleusercontent.com/a/default-user=s64",
      "userId": "00061440317593426504"
     },
     "user_tz": 240
    },
    "id": "0mJd-uU_dTwM",
    "ExecuteTime": {
     "end_time": "2023-06-05T12:48:30.761616Z",
     "start_time": "2023-06-05T12:48:30.683624400Z"
    }
   },
   "outputs": [],
   "source": [
    "# label train data\n",
    "train_dataset = []\n",
    "for i in range(5):\n",
    "  train_dataset.append((train_prices[i], i))\n",
    "\n",
    "# label test data\n",
    "test_dataset = []\n",
    "for i in range(5):\n",
    "  test_dataset.append((test_prices[i], i))"
   ]
  },
  {
   "cell_type": "code",
   "execution_count": 10,
   "metadata": {
    "colab": {
     "base_uri": "https://localhost:8080/"
    },
    "executionInfo": {
     "elapsed": 72,
     "status": "ok",
     "timestamp": 1634649863236,
     "user": {
      "displayName": "boming ning",
      "photoUrl": "https://lh3.googleusercontent.com/a/default-user=s64",
      "userId": "00061440317593426504"
     },
     "user_tz": 240
    },
    "id": "8NM2xSHyy6eM",
    "outputId": "0fc266f6-115a-4591-c0bc-cd62af0c7049",
    "ExecuteTime": {
     "end_time": "2023-06-05T12:48:31.212620700Z",
     "start_time": "2023-06-05T12:48:31.133620700Z"
    }
   },
   "outputs": [
    {
     "name": "stdout",
     "output_type": "stream",
     "text": [
      "torch.Size([1, 250]) 0\n"
     ]
    }
   ],
   "source": [
    "price, label = train_dataset[0]\n",
    "print(price.shape, label)"
   ]
  },
  {
   "cell_type": "code",
   "execution_count": 11,
   "metadata": {
    "executionInfo": {
     "elapsed": 88,
     "status": "ok",
     "timestamp": 1634649632528,
     "user": {
      "displayName": "boming ning",
      "photoUrl": "https://lh3.googleusercontent.com/a/default-user=s64",
      "userId": "00061440317593426504"
     },
     "user_tz": 240
    },
    "id": "nnFZiaRroeGW",
    "ExecuteTime": {
     "end_time": "2023-06-05T12:48:34.817623300Z",
     "start_time": "2023-06-05T12:48:31.958619Z"
    }
   },
   "outputs": [],
   "source": [
    "import matplotlib.pyplot as plt"
   ]
  },
  {
   "cell_type": "code",
   "execution_count": 12,
   "metadata": {
    "colab": {
     "base_uri": "https://localhost:8080/",
     "height": 282
    },
    "executionInfo": {
     "elapsed": 313,
     "status": "ok",
     "timestamp": 1634649634799,
     "user": {
      "displayName": "boming ning",
      "photoUrl": "https://lh3.googleusercontent.com/a/default-user=s64",
      "userId": "00061440317593426504"
     },
     "user_tz": 240
    },
    "id": "wujFN9t-pBN7",
    "outputId": "673006a0-18c1-4b38-e1fa-b52b753ab2a9",
    "ExecuteTime": {
     "end_time": "2023-06-05T12:48:37.422623300Z",
     "start_time": "2023-06-05T12:48:35.677620600Z"
    }
   },
   "outputs": [
    {
     "name": "stdout",
     "output_type": "stream",
     "text": [
      "Label (numeric): 0\n"
     ]
    },
    {
     "data": {
      "text/plain": "<Figure size 640x480 with 1 Axes>",
      "image/png": "[encoded data removed]"
     },
     "metadata": {},
     "output_type": "display_data"
    }
   ],
   "source": [
    "price, label = train_dataset[0]\n",
    "plt.plot(np.arange(250), price[0])\n",
    "print('Label (numeric):', label)"
   ]
  },
  {
   "cell_type": "markdown",
   "metadata": {
    "id": "XMpExaTwJp_I"
   },
   "source": [
    "### Save and upload your notebook\n",
    "\n",
    "Whether you're running this Jupyter notebook online or on your computer, it's essential to save your work from time to time. You can continue working on a saved notebook later or share it with friends and colleagues to let them execute your code. [Jovian](https://jovian.ai/platform-features) offers an easy way of saving and sharing your Jupyter notebooks online."
   ]
  },
  {
   "cell_type": "code",
   "execution_count": 15,
   "metadata": {
    "executionInfo": {
     "elapsed": 3220,
     "status": "ok",
     "timestamp": 1634649644506,
     "user": {
      "displayName": "boming ning",
      "photoUrl": "https://lh3.googleusercontent.com/a/default-user=s64",
      "userId": "00061440317593426504"
     },
     "user_tz": 240
    },
    "id": "YZQLAkj-Jp_I"
   },
   "outputs": [],
   "source": [
    "!pip install jovian --upgrade -q"
   ]
  },
  {
   "cell_type": "code",
   "execution_count": 16,
   "metadata": {
    "executionInfo": {
     "elapsed": 68,
     "status": "ok",
     "timestamp": 1634649646455,
     "user": {
      "displayName": "boming ning",
      "photoUrl": "https://lh3.googleusercontent.com/a/default-user=s64",
      "userId": "00061440317593426504"
     },
     "user_tz": 240
    },
    "id": "Lz9-PiH6Jp_I"
   },
   "outputs": [],
   "source": [
    "# import jovian"
   ]
  },
  {
   "cell_type": "code",
   "execution_count": null,
   "metadata": {
    "colab": {
     "base_uri": "https://localhost:8080/",
     "height": 120
    },
    "executionInfo": {
     "elapsed": 9884,
     "status": "ok",
     "timestamp": 1634649657773,
     "user": {
      "displayName": "boming ning",
      "photoUrl": "https://lh3.googleusercontent.com/a/default-user=s64",
      "userId": "00061440317593426504"
     },
     "user_tz": 240
    },
    "id": "0UdJfJBIJp_I",
    "outputId": "326b2d20-0949-4a0f-ca4f-5a6ceb15b29e"
   },
   "outputs": [],
   "source": [
    "# jovian.commit(project=project_name)"
   ]
  },
  {
   "cell_type": "markdown",
   "metadata": {
    "id": "QxuW5ucGJp_J"
   },
   "source": [
    "## Training and Validation Datasets\n",
    "\n",
    "While building real world machine learning models, it is quite common to split the dataset into 3 parts:\n",
    "\n",
    "1. **Training set** - used to train the model i.e. compute the loss and adjust the weights of the model using gradient descent.\n",
    "2. **Validation set** - used to evaluate the model while training, adjust hyperparameters (learning rate etc.) and pick the best version of the model.\n",
    "3. **Test set** - used to compare different models, or different types of modeling approaches, and report the final accuracy of the model.\n",
    "\n",
    "Since there's no predefined validation set, we can set aside a small portion of the training set to be used as the validation set. We'll use the `random_split` helper method from PyTorch to do this. To ensure that we always create the same validation set, we'll also set a seed for the random number generator."
   ]
  },
  {
   "cell_type": "code",
   "execution_count": 13,
   "metadata": {
    "executionInfo": {
     "elapsed": 107,
     "status": "ok",
     "timestamp": 1634649681913,
     "user": {
      "displayName": "boming ning",
      "photoUrl": "https://lh3.googleusercontent.com/a/default-user=s64",
      "userId": "00061440317593426504"
     },
     "user_tz": 240
    },
    "id": "MSVGdRK3Jp_J",
    "ExecuteTime": {
     "end_time": "2023-06-05T12:49:12.485923400Z",
     "start_time": "2023-06-05T12:49:12.306921300Z"
    }
   },
   "outputs": [],
   "source": [
    "random_seed = 15\n",
    "torch.manual_seed(random_seed);"
   ]
  },
  {
   "cell_type": "markdown",
   "metadata": {
    "id": "s8Hu-d6mJp_M"
   },
   "source": [
    "We can now create data loaders for training and validation, to load the data in batches"
   ]
  },
  {
   "cell_type": "code",
   "execution_count": 14,
   "metadata": {
    "executionInfo": {
     "elapsed": 81,
     "status": "ok",
     "timestamp": 1634649685430,
     "user": {
      "displayName": "boming ning",
      "photoUrl": "https://lh3.googleusercontent.com/a/default-user=s64",
      "userId": "00061440317593426504"
     },
     "user_tz": 240
    },
    "id": "7wM8WQFfJp_M",
    "ExecuteTime": {
     "end_time": "2023-06-05T12:49:15.434923900Z",
     "start_time": "2023-06-05T12:49:15.299918100Z"
    }
   },
   "outputs": [],
   "source": [
    "from torch.utils.data.dataloader import DataLoader\n",
    "batch_size=1"
   ]
  },
  {
   "cell_type": "code",
   "execution_count": 15,
   "metadata": {
    "executionInfo": {
     "elapsed": 80,
     "status": "ok",
     "timestamp": 1634649687930,
     "user": {
      "displayName": "boming ning",
      "photoUrl": "https://lh3.googleusercontent.com/a/default-user=s64",
      "userId": "00061440317593426504"
     },
     "user_tz": 240
    },
    "id": "lWXX_hHGJp_M",
    "ExecuteTime": {
     "end_time": "2023-06-05T12:49:16.891917200Z",
     "start_time": "2023-06-05T12:49:16.750916600Z"
    }
   },
   "outputs": [],
   "source": [
    "train_dl = DataLoader(train_dataset, batch_size, shuffle=True, num_workers=2, pin_memory=True)\n",
    "test_dl = DataLoader(test_dataset, batch_size, num_workers=2, pin_memory=True)"
   ]
  },
  {
   "cell_type": "code",
   "execution_count": 18,
   "metadata": {
    "colab": {
     "base_uri": "https://localhost:8080/"
    },
    "executionInfo": {
     "elapsed": 14696,
     "status": "ok",
     "timestamp": 1634649704137,
     "user": {
      "displayName": "boming ning",
      "photoUrl": "https://lh3.googleusercontent.com/a/default-user=s64",
      "userId": "00061440317593426504"
     },
     "user_tz": 240
    },
    "id": "BNcvdex7fWKc",
    "outputId": "9016ac1f-8fd3-4415-ed0f-d23a6ca1f500",
    "ExecuteTime": {
     "end_time": "2023-06-05T12:49:44.636731100Z",
     "start_time": "2023-06-05T12:49:34.819668300Z"
    }
   },
   "outputs": [
    {
     "name": "stdout",
     "output_type": "stream",
     "text": [
      "torch.Size([1, 1, 250]) tensor([0])\n"
     ]
    }
   ],
   "source": [
    "for price, label in train_dl:\n",
    "  print(price.shape, label)\n",
    "  break"
   ]
  },
  {
   "cell_type": "code",
   "execution_count": 19,
   "metadata": {
    "colab": {
     "base_uri": "https://localhost:8080/",
     "height": 86
    },
    "executionInfo": {
     "elapsed": 1430,
     "status": "ok",
     "timestamp": 1634649705562,
     "user": {
      "displayName": "boming ning",
      "photoUrl": "https://lh3.googleusercontent.com/a/default-user=s64",
      "userId": "00061440317593426504"
     },
     "user_tz": 240
    },
    "id": "b5O2QNSGJp_O",
    "outputId": "81209261-9365-4db7-ac65-0227bc9d0427",
    "ExecuteTime": {
     "end_time": "2023-06-05T12:49:44.654728600Z",
     "start_time": "2023-06-05T12:49:44.640727700Z"
    }
   },
   "outputs": [],
   "source": [
    "# jovian.commit(project=project_name, environment=None)"
   ]
  },
  {
   "cell_type": "markdown",
   "metadata": {
    "id": "PkRCd9f4Jp_O"
   },
   "source": [
    "## Defining the Model (Convolutional Neural Network)\n",
    "\n",
    "We will use a convolutional neural network, using the `nn.Conv1d` class from PyTorch."
   ]
  },
  {
   "cell_type": "code",
   "execution_count": 20,
   "metadata": {
    "executionInfo": {
     "elapsed": 77,
     "status": "ok",
     "timestamp": 1634649709201,
     "user": {
      "displayName": "boming ning",
      "photoUrl": "https://lh3.googleusercontent.com/a/default-user=s64",
      "userId": "00061440317593426504"
     },
     "user_tz": 240
    },
    "id": "CKaWyJtUJp_P",
    "ExecuteTime": {
     "end_time": "2023-06-05T12:49:44.722726Z",
     "start_time": "2023-06-05T12:49:44.655727100Z"
    }
   },
   "outputs": [],
   "source": [
    "import torch.nn as nn\n",
    "import torch.nn.functional as F"
   ]
  },
  {
   "cell_type": "code",
   "execution_count": null,
   "metadata": {
    "executionInfo": {
     "elapsed": 88,
     "status": "ok",
     "timestamp": 1634649710513,
     "user": {
      "displayName": "boming ning",
      "photoUrl": "https://lh3.googleusercontent.com/a/default-user=s64",
      "userId": "00061440317593426504"
     },
     "user_tz": 240
    },
    "id": "YXmQxqS0Jp_P",
    "is_executing": true
   },
   "outputs": [],
   "source": [
    "\n",
    "simple_model = nn.Sequential(\n",
    "    nn.Conv1d(1, 8, kernel_size=3, stride=1, padding=1),\n",
    "    nn.MaxPool1d(2)\n",
    ")"
   ]
  },
  {
   "cell_type": "code",
   "execution_count": null,
   "metadata": {
    "colab": {
     "base_uri": "https://localhost:8080/"
    },
    "executionInfo": {
     "elapsed": 170,
     "status": "ok",
     "timestamp": 1634649711138,
     "user": {
      "displayName": "boming ning",
      "photoUrl": "https://lh3.googleusercontent.com/a/default-user=s64",
      "userId": "00061440317593426504"
     },
     "user_tz": 240
    },
    "id": "LyxDOGH_Jp_P",
    "outputId": "0cd7650a-d579-44ce-88f8-e86247cbc94b",
    "is_executing": true
   },
   "outputs": [],
   "source": [
    "for prices, labels in train_dl:\n",
    "    print(prices.shape)\n",
    "    output = simple_model(prices)\n",
    "    print(output.shape)\n",
    "    break"
   ]
  },
  {
   "cell_type": "code",
   "execution_count": 26,
   "metadata": {
    "executionInfo": {
     "elapsed": 74,
     "status": "ok",
     "timestamp": 1634649712826,
     "user": {
      "displayName": "boming ning",
      "photoUrl": "https://lh3.googleusercontent.com/a/default-user=s64",
      "userId": "00061440317593426504"
     },
     "user_tz": 240
    },
    "id": "WgbZ6gLOJp_Q"
   },
   "outputs": [],
   "source": [
    "class ClassificationBase(nn.Module):\n",
    "    def training_step(self, batch):\n",
    "        prices, labels = batch \n",
    "        out = self(prices)                  # Generate predictions\n",
    "        loss = F.cross_entropy(out, labels) # Calculate loss\n",
    "        return loss\n",
    "    \n",
    "    def validation_step(self, batch):\n",
    "        prices, labels = batch \n",
    "        out = self(prices)                    # Generate predictions\n",
    "        loss = F.cross_entropy(out, labels)   # Calculate loss\n",
    "        acc = accuracy(out, labels)           # Calculate accuracy\n",
    "        return {'val_loss': loss.detach(), 'val_acc': acc}\n",
    "        \n",
    "    def validation_epoch_end(self, outputs):\n",
    "        batch_losses = [x['val_loss'] for x in outputs]\n",
    "        epoch_loss = torch.stack(batch_losses).mean()   # Combine losses\n",
    "        batch_accs = [x['val_acc'] for x in outputs]\n",
    "        epoch_acc = torch.stack(batch_accs).mean()      # Combine accuracies\n",
    "        return {'val_loss': epoch_loss.item(), 'val_acc': epoch_acc.item()}\n",
    "    \n",
    "    def epoch_end(self, epoch, result):\n",
    "        print(\"Epoch [{}], train_loss: {:.4f}, val_loss: {:.4f}, val_acc: {:.4f}\".format(\n",
    "            epoch, result['train_loss'], result['val_loss'], result['val_acc']))\n",
    "        \n",
    "def accuracy(outputs, labels):\n",
    "    _, preds = torch.max(outputs, dim=1)\n",
    "    return torch.tensor(torch.sum(preds == labels).item() / len(preds))"
   ]
  },
  {
   "cell_type": "markdown",
   "metadata": {
    "id": "rw-AyZcjJp_Q"
   },
   "source": [
    "\n",
    "We'll use `nn.Sequential` to chain the layers and activations functions into a single network architecture."
   ]
  },
  {
   "cell_type": "code",
   "execution_count": 27,
   "metadata": {
    "executionInfo": {
     "elapsed": 73,
     "status": "ok",
     "timestamp": 1634649715172,
     "user": {
      "displayName": "boming ning",
      "photoUrl": "https://lh3.googleusercontent.com/a/default-user=s64",
      "userId": "00061440317593426504"
     },
     "user_tz": 240
    },
    "id": "F4xrvghlJp_Q"
   },
   "outputs": [],
   "source": [
    "class TimeSeriesCnnModel(ClassificationBase):\n",
    "    def __init__(self):\n",
    "        super().__init__()\n",
    "        self.network = nn.Sequential(\n",
    "            nn.Conv1d(1, 32, kernel_size=3, stride=1, padding=1),\n",
    "            nn.ReLU(),\n",
    "            nn.Conv1d(32, 64, kernel_size=3, stride=1, padding=1),\n",
    "            nn.ReLU(),\n",
    "            nn.MaxPool1d(2), # output: 64 x 125\n",
    "\n",
    "            nn.Conv1d(64, 128, kernel_size=3, stride=1, padding=1),\n",
    "            nn.ReLU(),\n",
    "            nn.Conv1d(128, 128, kernel_size=3, stride=1, padding=1),\n",
    "            nn.ReLU(),\n",
    "            nn.MaxPool1d(2), # output: 128 x 62\n",
    "\n",
    "            nn.Conv1d(128, 256, kernel_size=3, stride=1, padding=1),\n",
    "            nn.ReLU(),\n",
    "            nn.Conv1d(256, 256, kernel_size=3, stride=1, padding=1),\n",
    "            nn.ReLU(),\n",
    "            nn.MaxPool1d(2), # output: 256 x 31\n",
    "\n",
    "            nn.Flatten(), \n",
    "            nn.Linear(256*31, 1024),\n",
    "            nn.ReLU(),\n",
    "            nn.Linear(1024, 512),\n",
    "            nn.ReLU(),\n",
    "            nn.Linear(512, 5))\n",
    "        \n",
    "    def forward(self, xb):\n",
    "        return self.network(xb)"
   ]
  },
  {
   "cell_type": "code",
   "execution_count": 28,
   "metadata": {
    "colab": {
     "base_uri": "https://localhost:8080/"
    },
    "executionInfo": {
     "elapsed": 177,
     "status": "ok",
     "timestamp": 1634649734472,
     "user": {
      "displayName": "boming ning",
      "photoUrl": "https://lh3.googleusercontent.com/a/default-user=s64",
      "userId": "00061440317593426504"
     },
     "user_tz": 240
    },
    "id": "tU5q48KeJp_Q",
    "outputId": "e2bcf97d-2678-4505-e7b9-569c20e71ded"
   },
   "outputs": [
    {
     "data": {
      "text/plain": [
       "TimeSeriesCnnModel(\n",
       "  (network): Sequential(\n",
       "    (0): Conv1d(1, 32, kernel_size=(3,), stride=(1,), padding=(1,))\n",
       "    (1): ReLU()\n",
       "    (2): Conv1d(32, 64, kernel_size=(3,), stride=(1,), padding=(1,))\n",
       "    (3): ReLU()\n",
       "    (4): MaxPool1d(kernel_size=2, stride=2, padding=0, dilation=1, ceil_mode=False)\n",
       "    (5): Conv1d(64, 128, kernel_size=(3,), stride=(1,), padding=(1,))\n",
       "    (6): ReLU()\n",
       "    (7): Conv1d(128, 128, kernel_size=(3,), stride=(1,), padding=(1,))\n",
       "    (8): ReLU()\n",
       "    (9): MaxPool1d(kernel_size=2, stride=2, padding=0, dilation=1, ceil_mode=False)\n",
       "    (10): Conv1d(128, 256, kernel_size=(3,), stride=(1,), padding=(1,))\n",
       "    (11): ReLU()\n",
       "    (12): Conv1d(256, 256, kernel_size=(3,), stride=(1,), padding=(1,))\n",
       "    (13): ReLU()\n",
       "    (14): MaxPool1d(kernel_size=2, stride=2, padding=0, dilation=1, ceil_mode=False)\n",
       "    (15): Flatten(start_dim=1, end_dim=-1)\n",
       "    (16): Linear(in_features=7936, out_features=1024, bias=True)\n",
       "    (17): ReLU()\n",
       "    (18): Linear(in_features=1024, out_features=512, bias=True)\n",
       "    (19): ReLU()\n",
       "    (20): Linear(in_features=512, out_features=5, bias=True)\n",
       "  )\n",
       ")"
      ]
     },
     "execution_count": 28,
     "metadata": {},
     "output_type": "execute_result"
    }
   ],
   "source": [
    "model = TimeSeriesCnnModel()\n",
    "model"
   ]
  },
  {
   "cell_type": "markdown",
   "metadata": {
    "id": "oASDWWc9Jp_R"
   },
   "source": [
    "To seamlessly use a GPU, if one is available, we define a couple of helper functions (`get_default_device` & `to_device`) and a helper class `DeviceDataLoader` to move our model & data to the GPU as required. These are described in more detail in the [previous tutorial](https://jovian.ml/aakashns/04-feedforward-nn#C21)."
   ]
  },
  {
   "cell_type": "code",
   "execution_count": 29,
   "metadata": {
    "executionInfo": {
     "elapsed": 79,
     "status": "ok",
     "timestamp": 1634649738924,
     "user": {
      "displayName": "boming ning",
      "photoUrl": "https://lh3.googleusercontent.com/a/default-user=s64",
      "userId": "00061440317593426504"
     },
     "user_tz": 240
    },
    "id": "wR9oVOopJp_R"
   },
   "outputs": [],
   "source": [
    "def get_default_device():\n",
    "    \"\"\"Pick GPU if available, else CPU\"\"\"\n",
    "    if torch.cuda.is_available():\n",
    "        return torch.device('cuda')\n",
    "    else:\n",
    "        return torch.device('cpu')\n",
    "    \n",
    "def to_device(data, device):\n",
    "    \"\"\"Move tensor(s) to chosen device\"\"\"\n",
    "    if isinstance(data, (list,tuple)):\n",
    "        return [to_device(x, device) for x in data]\n",
    "    return data.to(device, non_blocking=True)\n",
    "\n",
    "class DeviceDataLoader():\n",
    "    \"\"\"Wrap a dataloader to move data to a device\"\"\"\n",
    "    def __init__(self, dl, device):\n",
    "        self.dl = dl\n",
    "        self.device = device\n",
    "        \n",
    "    def __iter__(self):\n",
    "        \"\"\"Yield a batch of data after moving it to device\"\"\"\n",
    "        for b in self.dl: \n",
    "            yield to_device(b, self.device)\n",
    "\n",
    "    def __len__(self):\n",
    "        \"\"\"Number of batches\"\"\"\n",
    "        return len(self.dl)"
   ]
  },
  {
   "cell_type": "markdown",
   "metadata": {
    "id": "5zBM9zOqJp_R"
   },
   "source": [
    "Based on where you're running this notebook, your default device could be a CPU (`torch.device('cpu')`) or a GPU (`torch.device('cuda')`)"
   ]
  },
  {
   "cell_type": "code",
   "execution_count": 30,
   "metadata": {
    "colab": {
     "base_uri": "https://localhost:8080/"
    },
    "executionInfo": {
     "elapsed": 81,
     "status": "ok",
     "timestamp": 1634649742155,
     "user": {
      "displayName": "boming ning",
      "photoUrl": "https://lh3.googleusercontent.com/a/default-user=s64",
      "userId": "00061440317593426504"
     },
     "user_tz": 240
    },
    "id": "iczDAm1SJp_R",
    "outputId": "6cdb319b-8c4e-4096-8ba6-83c1dd5326bb"
   },
   "outputs": [
    {
     "data": {
      "text/plain": [
       "device(type='cuda')"
      ]
     },
     "execution_count": 30,
     "metadata": {},
     "output_type": "execute_result"
    }
   ],
   "source": [
    "device = get_default_device()\n",
    "device"
   ]
  },
  {
   "cell_type": "markdown",
   "metadata": {
    "id": "zdlOEla3Jp_R"
   },
   "source": [
    "We can now wrap our training and validation data loaders using `DeviceDataLoader` for automatically transferring batches of data to the GPU (if available), and use `to_device` to move our model to the GPU (if available)."
   ]
  },
  {
   "cell_type": "code",
   "execution_count": 31,
   "metadata": {
    "executionInfo": {
     "elapsed": 75,
     "status": "ok",
     "timestamp": 1634649744978,
     "user": {
      "displayName": "boming ning",
      "photoUrl": "https://lh3.googleusercontent.com/a/default-user=s64",
      "userId": "00061440317593426504"
     },
     "user_tz": 240
    },
    "id": "vx3BnG8IJp_R"
   },
   "outputs": [],
   "source": [
    "train_dl = DeviceDataLoader(train_dl, device)\n",
    "test_dl = DeviceDataLoader(test_dl, device)\n",
    "to_device(model, device);"
   ]
  },
  {
   "cell_type": "markdown",
   "metadata": {
    "id": "CICXCTtpJp_R"
   },
   "source": [
    "Once again, let's save and commit the notebook before we proceed further."
   ]
  },
  {
   "cell_type": "code",
   "execution_count": 32,
   "metadata": {
    "colab": {
     "base_uri": "https://localhost:8080/",
     "height": 86
    },
    "executionInfo": {
     "elapsed": 1996,
     "status": "ok",
     "timestamp": 1634649752320,
     "user": {
      "displayName": "boming ning",
      "photoUrl": "https://lh3.googleusercontent.com/a/default-user=s64",
      "userId": "00061440317593426504"
     },
     "user_tz": 240
    },
    "id": "js6r9zuBJp_R",
    "outputId": "4625c5fe-1ad7-47dd-e06c-7dc98eb23aa4"
   },
   "outputs": [
    {
     "name": "stdout",
     "output_type": "stream",
     "text": [
      "[jovian] Detected Colab notebook...\u001B[0m\n",
      "[jovian] Uploading colab notebook to Jovian...\u001B[0m\n",
      "Committed successfully! https://jovian.ai/ningboming/time-series-classification-cnn\n"
     ]
    },
    {
     "data": {
      "application/vnd.google.colaboratory.intrinsic+json": {
       "type": "string"
      },
      "text/plain": [
       "'https://jovian.ai/ningboming/time-series-classification-cnn'"
      ]
     },
     "execution_count": 32,
     "metadata": {},
     "output_type": "execute_result"
    }
   ],
   "source": [
    "# jovian.commit(project=project_name)"
   ]
  },
  {
   "cell_type": "markdown",
   "metadata": {
    "id": "0qq2eMlEJp_S"
   },
   "source": [
    "## Training the Model\n",
    "\n",
    "We'll define two functions: `fit` and `evaluate` to train the model using gradient descent and evaluate its performance on the validation set. For a detailed walkthrough of these functions, check out the [previous tutorial](https://jovian.ai/aakashns/03-logistic-regression)."
   ]
  },
  {
   "cell_type": "code",
   "execution_count": 33,
   "metadata": {
    "colab": {
     "base_uri": "https://localhost:8080/"
    },
    "executionInfo": {
     "elapsed": 460,
     "status": "ok",
     "timestamp": 1634649753353,
     "user": {
      "displayName": "boming ning",
      "photoUrl": "https://lh3.googleusercontent.com/a/default-user=s64",
      "userId": "00061440317593426504"
     },
     "user_tz": 240
    },
    "id": "qDjF_Mcqh6W5",
    "outputId": "acb9d271-2a83-4f16-922b-e6002f07cb02"
   },
   "outputs": [
    {
     "name": "stdout",
     "output_type": "stream",
     "text": [
      "tensor([3], device='cuda:0') tensor([3], device='cuda:0')\n",
      "tensor([3], device='cuda:0') tensor([1], device='cuda:0')\n",
      "tensor([3], device='cuda:0') tensor([0], device='cuda:0')\n",
      "tensor([2], device='cuda:0') tensor([4], device='cuda:0')\n",
      "tensor([2], device='cuda:0') tensor([2], device='cuda:0')\n"
     ]
    }
   ],
   "source": [
    "# Check the initial model \n",
    "for prices, labels in train_dl:\n",
    "    out = model(prices)\n",
    "    _, preds = torch.max(out, dim=1)\n",
    "    print(preds, labels)"
   ]
  },
  {
   "cell_type": "code",
   "execution_count": 35,
   "metadata": {
    "colab": {
     "base_uri": "https://localhost:8080/"
    },
    "executionInfo": {
     "elapsed": 261,
     "status": "ok",
     "timestamp": 1634649786870,
     "user": {
      "displayName": "boming ning",
      "photoUrl": "https://lh3.googleusercontent.com/a/default-user=s64",
      "userId": "00061440317593426504"
     },
     "user_tz": 240
    },
    "id": "DGL00SiLiJsQ",
    "outputId": "b16400db-c014-42a4-d8b0-47facfd92a2e"
   },
   "outputs": [
    {
     "name": "stdout",
     "output_type": "stream",
     "text": [
      "tensor([3], device='cuda:0') tensor([0], device='cuda:0')\n",
      "tensor([3], device='cuda:0') tensor([1], device='cuda:0')\n",
      "tensor([3], device='cuda:0') tensor([2], device='cuda:0')\n",
      "tensor([3], device='cuda:0') tensor([3], device='cuda:0')\n",
      "tensor([3], device='cuda:0') tensor([4], device='cuda:0')\n"
     ]
    }
   ],
   "source": [
    "for prices, labels in test_dl:\n",
    "    out = model(prices)\n",
    "    _, preds = torch.max(out, dim=1)\n",
    "    print(preds, labels)"
   ]
  },
  {
   "cell_type": "code",
   "execution_count": 36,
   "metadata": {
    "executionInfo": {
     "elapsed": 100,
     "status": "ok",
     "timestamp": 1634649787244,
     "user": {
      "displayName": "boming ning",
      "photoUrl": "https://lh3.googleusercontent.com/a/default-user=s64",
      "userId": "00061440317593426504"
     },
     "user_tz": 240
    },
    "id": "aEQkLCaYJp_S"
   },
   "outputs": [],
   "source": [
    "@torch.no_grad()\n",
    "def evaluate(model, val_loader):\n",
    "    model.eval()\n",
    "    outputs = [model.validation_step(batch) for batch in val_loader]\n",
    "    return model.validation_epoch_end(outputs)\n",
    "\n",
    "def fit(epochs, lr, model, train_loader, val_loader, opt_func=torch.optim.SGD):\n",
    "    history = []\n",
    "    optimizer = opt_func(model.parameters(), lr)\n",
    "    for epoch in range(epochs):\n",
    "        # Training Phase \n",
    "        model.train()\n",
    "        train_losses = []\n",
    "        for batch in train_loader:\n",
    "            loss = model.training_step(batch)\n",
    "            train_losses.append(loss)\n",
    "            loss.backward()\n",
    "            optimizer.step()\n",
    "            optimizer.zero_grad()\n",
    "        # Validation phase\n",
    "        result = evaluate(model, val_loader)\n",
    "        result['train_loss'] = torch.stack(train_losses).mean().item()\n",
    "        model.epoch_end(epoch, result)\n",
    "        history.append(result)\n",
    "    return history"
   ]
  },
  {
   "cell_type": "markdown",
   "metadata": {
    "id": "mGbR0ClAJp_S"
   },
   "source": [
    "Before we begin training, let's instantiate the model once again and see how it performs on the validation set with the initial set of parameters."
   ]
  },
  {
   "cell_type": "code",
   "execution_count": 37,
   "metadata": {
    "colab": {
     "base_uri": "https://localhost:8080/"
    },
    "executionInfo": {
     "elapsed": 391,
     "status": "ok",
     "timestamp": 1634649791882,
     "user": {
      "displayName": "boming ning",
      "photoUrl": "https://lh3.googleusercontent.com/a/default-user=s64",
      "userId": "00061440317593426504"
     },
     "user_tz": 240
    },
    "id": "rWO9y9TrJp_S",
    "outputId": "cda2ad4b-d4e5-4175-f98b-6e875ed46813"
   },
   "outputs": [
    {
     "data": {
      "text/plain": [
       "{'val_acc': 0.20000000298023224, 'val_loss': 1.5874382257461548}"
      ]
     },
     "execution_count": 37,
     "metadata": {},
     "output_type": "execute_result"
    }
   ],
   "source": [
    "evaluate(model, test_dl)"
   ]
  },
  {
   "cell_type": "code",
   "execution_count": 40,
   "metadata": {
    "colab": {
     "base_uri": "https://localhost:8080/"
    },
    "executionInfo": {
     "elapsed": 226,
     "status": "ok",
     "timestamp": 1634649878282,
     "user": {
      "displayName": "boming ning",
      "photoUrl": "https://lh3.googleusercontent.com/a/default-user=s64",
      "userId": "00061440317593426504"
     },
     "user_tz": 240
    },
    "id": "cgD8VpB8j8Fe",
    "outputId": "f6c12d15-83b1-435d-ab27-e181813b6a3d"
   },
   "outputs": [
    {
     "data": {
      "text/plain": [
       "{'val_acc': 0.4000000059604645, 'val_loss': 1.5940901041030884}"
      ]
     },
     "execution_count": 40,
     "metadata": {},
     "output_type": "execute_result"
    }
   ],
   "source": [
    "evaluate(model, train_dl)"
   ]
  },
  {
   "cell_type": "markdown",
   "metadata": {
    "id": "WEuauDpwJp_S"
   },
   "source": [
    "The initial accuracy is around 20%, which is what one might expect from a randomly intialized model (since it has a 1 in 10 chance of getting a label right by guessing randomly).\n",
    "\n",
    "We'll use the following *hyperparmeters* (learning rate, no. of epochs, batch_size etc.) to train our model. As an exercise, you can try changing these to see if you have achieve a higher accuracy in a shorter time. "
   ]
  },
  {
   "cell_type": "code",
   "execution_count": 41,
   "metadata": {
    "executionInfo": {
     "elapsed": 105,
     "status": "ok",
     "timestamp": 1634649887081,
     "user": {
      "displayName": "boming ning",
      "photoUrl": "https://lh3.googleusercontent.com/a/default-user=s64",
      "userId": "00061440317593426504"
     },
     "user_tz": 240
    },
    "id": "HdSA8RWDJp_S"
   },
   "outputs": [],
   "source": [
    "num_epochs = 20\n",
    "opt_func = torch.optim.Adam\n",
    "lr = 0.0001"
   ]
  },
  {
   "cell_type": "markdown",
   "metadata": {
    "id": "-6lIc9bUJp_S"
   },
   "source": [
    "It's important to record the hyperparameters of every experiment you do, to replicate it later and compare it against other experiments. We can record them using `jovian.log_hyperparams`."
   ]
  },
  {
   "cell_type": "code",
   "execution_count": 42,
   "metadata": {
    "colab": {
     "base_uri": "https://localhost:8080/"
    },
    "executionInfo": {
     "elapsed": 234,
     "status": "ok",
     "timestamp": 1634649890052,
     "user": {
      "displayName": "boming ning",
      "photoUrl": "https://lh3.googleusercontent.com/a/default-user=s64",
      "userId": "00061440317593426504"
     },
     "user_tz": 240
    },
    "id": "PfD4is6FJp_S",
    "outputId": "cd91ed53-5340-403f-d9fc-cdf9cc7d05ea"
   },
   "outputs": [
    {
     "name": "stdout",
     "output_type": "stream",
     "text": [
      "[jovian] Hyperparams logged.\u001B[0m\n"
     ]
    }
   ],
   "source": [
    "# jovian.reset()\n",
    "# jovian.log_hyperparams({\n",
    "#     'num_epochs': num_epochs,\n",
    "#     'opt_func': opt_func.__name__,\n",
    "#     'batch_size': batch_size,\n",
    "#     'lr': lr,\n",
    "# })"
   ]
  },
  {
   "cell_type": "code",
   "execution_count": 43,
   "metadata": {
    "colab": {
     "base_uri": "https://localhost:8080/"
    },
    "executionInfo": {
     "elapsed": 5577,
     "status": "ok",
     "timestamp": 1634649896658,
     "user": {
      "displayName": "boming ning",
      "photoUrl": "https://lh3.googleusercontent.com/a/default-user=s64",
      "userId": "00061440317593426504"
     },
     "user_tz": 240
    },
    "id": "vZK4Y2XrJp_T",
    "outputId": "bf7ed832-ebf5-4f7e-d4f6-69c2c6c39648"
   },
   "outputs": [
    {
     "name": "stdout",
     "output_type": "stream",
     "text": [
      "Epoch [0], train_loss: 1.8401, val_loss: 1.5814, val_acc: 0.2000\n",
      "Epoch [1], train_loss: 1.5653, val_loss: 1.5090, val_acc: 0.2000\n",
      "Epoch [2], train_loss: 1.5084, val_loss: 1.5130, val_acc: 0.2000\n",
      "Epoch [3], train_loss: 1.4591, val_loss: 1.5031, val_acc: 0.2000\n",
      "Epoch [4], train_loss: 1.4410, val_loss: 1.5579, val_acc: 0.2000\n",
      "Epoch [5], train_loss: 1.4130, val_loss: 1.5542, val_acc: 0.2000\n",
      "Epoch [6], train_loss: 1.4153, val_loss: 1.5650, val_acc: 0.2000\n",
      "Epoch [7], train_loss: 1.3939, val_loss: 1.5343, val_acc: 0.2000\n",
      "Epoch [8], train_loss: 1.4051, val_loss: 1.5210, val_acc: 0.2000\n",
      "Epoch [9], train_loss: 1.4110, val_loss: 1.5227, val_acc: 0.2000\n",
      "Epoch [10], train_loss: 1.4010, val_loss: 1.5165, val_acc: 0.2000\n",
      "Epoch [11], train_loss: 1.3868, val_loss: 1.5590, val_acc: 0.2000\n",
      "Epoch [12], train_loss: 1.3807, val_loss: 1.5577, val_acc: 0.2000\n",
      "Epoch [13], train_loss: 1.4098, val_loss: 1.6620, val_acc: 0.2000\n",
      "Epoch [14], train_loss: 1.3836, val_loss: 1.5548, val_acc: 0.2000\n",
      "Epoch [15], train_loss: 1.3711, val_loss: 1.5040, val_acc: 0.2000\n",
      "Epoch [16], train_loss: 1.4086, val_loss: 1.4797, val_acc: 0.2000\n",
      "Epoch [17], train_loss: 1.3788, val_loss: 1.6327, val_acc: 0.2000\n",
      "Epoch [18], train_loss: 1.3899, val_loss: 1.6642, val_acc: 0.2000\n",
      "Epoch [19], train_loss: 1.4033, val_loss: 1.5206, val_acc: 0.2000\n"
     ]
    }
   ],
   "source": [
    "history = fit(num_epochs, lr, model, train_dl, test_dl, opt_func)"
   ]
  },
  {
   "cell_type": "code",
   "execution_count": 44,
   "metadata": {
    "colab": {
     "base_uri": "https://localhost:8080/"
    },
    "executionInfo": {
     "elapsed": 223,
     "status": "ok",
     "timestamp": 1634649907514,
     "user": {
      "displayName": "boming ning",
      "photoUrl": "https://lh3.googleusercontent.com/a/default-user=s64",
      "userId": "00061440317593426504"
     },
     "user_tz": 240
    },
    "id": "X49ZOKCykPKT",
    "outputId": "a464895e-871a-409b-bb40-528b5cc5decf"
   },
   "outputs": [
    {
     "name": "stdout",
     "output_type": "stream",
     "text": [
      "tensor([1], device='cuda:0') tensor([1], device='cuda:0')\n",
      "tensor([1], device='cuda:0') tensor([2], device='cuda:0')\n",
      "tensor([1], device='cuda:0') tensor([3], device='cuda:0')\n",
      "tensor([1], device='cuda:0') tensor([4], device='cuda:0')\n",
      "tensor([1], device='cuda:0') tensor([0], device='cuda:0')\n"
     ]
    }
   ],
   "source": [
    "# Check the trained model\n",
    "for prices, labels in train_dl:\n",
    "    out = model(prices)\n",
    "    _, preds = torch.max(out, dim=1)\n",
    "    print(preds, labels)"
   ]
  },
  {
   "cell_type": "code",
   "execution_count": 45,
   "metadata": {
    "colab": {
     "base_uri": "https://localhost:8080/"
    },
    "executionInfo": {
     "elapsed": 245,
     "status": "ok",
     "timestamp": 1634649913332,
     "user": {
      "displayName": "boming ning",
      "photoUrl": "https://lh3.googleusercontent.com/a/default-user=s64",
      "userId": "00061440317593426504"
     },
     "user_tz": 240
    },
    "id": "mJle-mxwkcgQ",
    "outputId": "cd342ee0-2c29-45a3-f299-feabcfe322bf"
   },
   "outputs": [
    {
     "name": "stdout",
     "output_type": "stream",
     "text": [
      "tensor([1], device='cuda:0') tensor([0], device='cuda:0')\n",
      "tensor([1], device='cuda:0') tensor([1], device='cuda:0')\n",
      "tensor([1], device='cuda:0') tensor([2], device='cuda:0')\n",
      "tensor([1], device='cuda:0') tensor([3], device='cuda:0')\n",
      "tensor([1], device='cuda:0') tensor([4], device='cuda:0')\n"
     ]
    }
   ],
   "source": [
    "for prices, labels in test_dl:\n",
    "    out = model(prices)\n",
    "    _, preds = torch.max(out, dim=1)\n",
    "    print(preds, labels)"
   ]
  },
  {
   "cell_type": "code",
   "execution_count": null,
   "metadata": {
    "id": "4bLvOFf-Jp_U"
   },
   "outputs": [],
   "source": [
    "# jovian.commit(project=project_name)"
   ]
  },
  {
   "cell_type": "code",
   "execution_count": null,
   "metadata": {
    "id": "uGctANfllFGF"
   },
   "outputs": [],
   "source": []
  }
 ],
 "metadata": {
  "accelerator": "GPU",
  "colab": {
   "collapsed_sections": [
    "0qq2eMlEJp_S",
    "Smk8znXkJp_W",
    "uAESHPLiJp_X"
   ],
   "name": "time-series-classification.ipynb",
   "provenance": []
  },
  "language_info": {
   "codemirror_mode": {
    "name": "ipython",
    "version": 3
   },
   "file_extension": ".py",
   "mimetype": "text/x-python",
   "name": "python",
   "nbconvert_exporter": "python",
   "pygments_lexer": "ipython3",
   "version": "3.7.6"
  },
  "kernelspec": {
   "name": "python3",
   "language": "python",
   "display_name": "Python 3 (ipykernel)"
  }
 },
 "nbformat": 4,
 "nbformat_minor": 0
}
