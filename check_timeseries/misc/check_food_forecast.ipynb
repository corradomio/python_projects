{
 "cells": [
  {
   "cell_type": "code",
   "execution_count": 1,
   "metadata": {
    "collapsed": true,
    "ExecuteTime": {
     "end_time": "2023-06-06T11:24:04.943526400Z",
     "start_time": "2023-06-06T11:23:55.510402900Z"
    }
   },
   "outputs": [],
   "source": [
    "import logging.config\n",
    "\n",
    "import matplotlib.pyplot as plt\n",
    "import pandasx as pdx\n",
    "from sktime.forecasting.base import ForecastingHorizon\n",
    "from sktime.utils.plotting import plot_series\n",
    "from sktimex import SimpleCNNForecaster"
   ]
  },
  {
   "cell_type": "code",
   "execution_count": 2,
   "outputs": [],
   "source": [
    "TARGET = 'import_kg'  # target column\n",
    "GROUP = 'item_country'  # time series\n",
    "YEARS = 7  # data collected years\n",
    "DATETIME = 'imp_date'\n",
    "MODEL = 'model'\n",
    "\n",
    "weather_columns = ['import_kg', 'mean_temperature', 'vap_pressure', 'evaporation', 'rainy_days']\n",
    "financial_columns = ['import_kg', 'crude_oil_price', 'sandp_500_us', 'sandp_sensex_india', 'shenzhen_index_china', 'nikkei_225_japan']"
   ],
   "metadata": {
    "collapsed": false,
    "ExecuteTime": {
     "end_time": "2023-06-06T11:24:04.944528300Z",
     "start_time": "2023-06-06T11:24:04.923527800Z"
    }
   }
  },
  {
   "cell_type": "code",
   "execution_count": 6,
   "outputs": [
    {
     "name": "stdout",
     "output_type": "stream",
     "text": [
      "Loading vw_food_import_train_test_newfeatures.csv ...\n",
      "... done ((29568, 18))\n",
      "<class 'pandas.core.frame.DataFrame'>\n",
      "RangeIndex: 29568 entries, 0 to 29567\n",
      "Data columns (total 18 columns):\n",
      " #   Column                            Non-Null Count  Dtype  \n",
      "---  ------                            --------------  -----  \n",
      " 0   item_country                      29568 non-null  object \n",
      " 1   imp_month                         29568 non-null  object \n",
      " 2   imp_date                          29568 non-null  object \n",
      " 3   import_kg                         29568 non-null  int64  \n",
      " 4   prod_kg                           9660 non-null   float64\n",
      " 5   avg_retail_price_src_country      733 non-null    float64\n",
      " 6   producer_price_tonne_src_country  7366 non-null   float64\n",
      " 7   crude_oil_price                   29568 non-null  float64\n",
      " 8   sandp_500_us                      29568 non-null  float64\n",
      " 9   sandp_sensex_india                29568 non-null  float64\n",
      " 10  shenzhen_index_china              29568 non-null  float64\n",
      " 11  nikkei_225_japan                  29568 non-null  float64\n",
      " 12  max_temperature                   29484 non-null  float64\n",
      " 13  mean_temperature                  29484 non-null  float64\n",
      " 14  min_temperature                   29484 non-null  float64\n",
      " 15  vap_pressure                      29484 non-null  float64\n",
      " 16  evaporation                       29484 non-null  float64\n",
      " 17  rainy_days                        29484 non-null  float64\n",
      "dtypes: float64(14), int64(1), object(3)\n",
      "memory usage: 4.1+ MB\n"
     ]
    }
   ],
   "source": [
    "df = pdx.read_data('vw_food_import_train_test_newfeatures.csv', na_values=['(null)'])\n",
    "df.info()"
   ],
   "metadata": {
    "collapsed": false,
    "ExecuteTime": {
     "end_time": "2023-06-06T11:25:15.964400300Z",
     "start_time": "2023-06-06T11:25:15.769404Z"
    }
   }
  },
  {
   "cell_type": "code",
   "execution_count": 3,
   "outputs": [
    {
     "name": "stdout",
     "output_type": "stream",
     "text": [
      "Loading vw_food_import_train_test_newfeatures.csv ...\n",
      "... done ((29568, 24))\n"
     ]
    }
   ],
   "source": [
    "df = pdx.read_data('vw_food_import_train_test_newfeatures.csv',\n",
    "                       datetime=('imp_date', '[%Y/%m/%d %H:%M:%S]', 'M'),\n",
    "                       onehot=['imp_month'],\n",
    "                       ignore=['imp_month', 'prod_kg', 'avg_retail_price_src_country',\n",
    "                               'producer_price_tonne_src_country',\n",
    "                               'max_temperature', 'min_temperature'],\n",
    "                       numeric=['evaporation', 'mean_temperature', 'rainy_days', 'vap_pressure'],\n",
    "                       # periodic=('imp_date', 'M'),\n",
    "                       na_values=['(null)'])"
   ],
   "metadata": {
    "collapsed": false,
    "ExecuteTime": {
     "end_time": "2023-06-06T11:24:11.881844500Z",
     "start_time": "2023-06-06T11:24:11.706205800Z"
    }
   }
  },
  {
   "cell_type": "code",
   "execution_count": 4,
   "outputs": [
    {
     "name": "stdout",
     "output_type": "stream",
     "text": [
      "<class 'pandas.core.frame.DataFrame'>\n",
      "RangeIndex: 29568 entries, 0 to 29567\n",
      "Data columns (total 24 columns):\n",
      " #   Column                Non-Null Count  Dtype    \n",
      "---  ------                --------------  -----    \n",
      " 0   crude_oil_price       29568 non-null  float64  \n",
      " 1   evaporation           29484 non-null  float64  \n",
      " 2   imp_date              29568 non-null  period[M]\n",
      " 3   imp_month_apr         29568 non-null  uint8    \n",
      " 4   imp_month_aug         29568 non-null  uint8    \n",
      " 5   imp_month_dec         29568 non-null  uint8    \n",
      " 6   imp_month_feb         29568 non-null  uint8    \n",
      " 7   imp_month_jan         29568 non-null  uint8    \n",
      " 8   imp_month_jul         29568 non-null  uint8    \n",
      " 9   imp_month_jun         29568 non-null  uint8    \n",
      " 10  imp_month_mar         29568 non-null  uint8    \n",
      " 11  imp_month_may         29568 non-null  uint8    \n",
      " 12  imp_month_nov         29568 non-null  uint8    \n",
      " 13  imp_month_oct         29568 non-null  uint8    \n",
      " 14  imp_month_sep         29568 non-null  uint8    \n",
      " 15  import_kg             29568 non-null  int64    \n",
      " 16  item_country          29568 non-null  object   \n",
      " 17  mean_temperature      29484 non-null  float64  \n",
      " 18  nikkei_225_japan      29568 non-null  float64  \n",
      " 19  rainy_days            29484 non-null  float64  \n",
      " 20  sandp_500_us          29568 non-null  float64  \n",
      " 21  sandp_sensex_india    29568 non-null  float64  \n",
      " 22  shenzhen_index_china  29568 non-null  float64  \n",
      " 23  vap_pressure          29484 non-null  float64  \n",
      "dtypes: float64(9), int64(1), object(1), period[M](1), uint8(12)\n",
      "memory usage: 3.0+ MB\n"
     ]
    }
   ],
   "source": [
    "df.info()"
   ],
   "metadata": {
    "collapsed": false,
    "ExecuteTime": {
     "end_time": "2023-06-06T11:24:16.155758900Z",
     "start_time": "2023-06-06T11:24:16.106236800Z"
    }
   }
  },
  {
   "cell_type": "code",
   "execution_count": null,
   "outputs": [],
   "source": [],
   "metadata": {
    "collapsed": false
   }
  }
 ],
 "metadata": {
  "kernelspec": {
   "display_name": "Python 3",
   "language": "python",
   "name": "python3"
  },
  "language_info": {
   "codemirror_mode": {
    "name": "ipython",
    "version": 2
   },
   "file_extension": ".py",
   "mimetype": "text/x-python",
   "name": "python",
   "nbconvert_exporter": "python",
   "pygments_lexer": "ipython2",
   "version": "2.7.6"
  }
 },
 "nbformat": 4,
 "nbformat_minor": 0
}
