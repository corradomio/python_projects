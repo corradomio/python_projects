{
 "cells": [
  {
   "cell_type": "code",
   "execution_count": 27,
   "outputs": [
    {
     "name": "stderr",
     "output_type": "stream",
     "text": [
      "vae\\diffusion_pytorch_model.safetensors not found\n",
      "`text_config_dict` is provided which will be used to initialize `CLIPTextConfig`. The value `text_config[\"id2label\"]` will be overriden.\n"
     ]
    }
   ],
   "source": [
    "from diffusers import DiffusionPipeline\n",
    "\n",
    "repo_id = \"runwayml/stable-diffusion-v1-5\"\n",
    "pipe = DiffusionPipeline.from_pretrained(repo_id)"
   ],
   "metadata": {
    "collapsed": false,
    "ExecuteTime": {
     "end_time": "2023-06-02T00:44:54.314812800Z",
     "start_time": "2023-06-02T00:44:48.904530900Z"
    }
   }
  },
  {
   "cell_type": "code",
   "execution_count": 28,
   "outputs": [
    {
     "name": "stderr",
     "output_type": "stream",
     "text": [
      "vae\\diffusion_pytorch_model.safetensors not found\n",
      "`text_config_dict` is provided which will be used to initialize `CLIPTextConfig`. The value `text_config[\"id2label\"]` will be overriden.\n"
     ]
    }
   ],
   "source": [
    "from diffusers import StableDiffusionImg2ImgPipeline\n",
    "\n",
    "repo_id = \"runwayml/stable-diffusion-v1-5\"\n",
    "pipe = StableDiffusionImg2ImgPipeline.from_pretrained(repo_id)"
   ],
   "metadata": {
    "collapsed": false,
    "ExecuteTime": {
     "end_time": "2023-06-02T00:45:08.359994300Z",
     "start_time": "2023-06-02T00:45:04.509934200Z"
    }
   }
  },
  {
   "cell_type": "code",
   "execution_count": 29,
   "outputs": [
    {
     "name": "stdout",
     "output_type": "stream",
     "text": [
      "Updated Git hooks.\n",
      "Git LFS initialized.\n"
     ]
    },
    {
     "name": "stderr",
     "output_type": "stream",
     "text": [
      "Cloning into 'stable-diffusion-v1-5'...\n",
      "Filtering content:  16% (2/12)\n",
      "Filtering content:  16% (2/12), 1.44 GiB | 7.77 MiB/s\n",
      "Filtering content:  25% (3/12), 1.44 GiB | 7.77 MiB/s\n",
      "Filtering content:  25% (3/12), 1.90 GiB | 17.92 MiB/s\n",
      "Filtering content:  33% (4/12), 1.90 GiB | 17.92 MiB/s\n",
      "Filtering content:  33% (4/12), 2.36 GiB | 27.82 MiB/s\n",
      "Filtering content:  41% (5/12), 2.36 GiB | 27.82 MiB/s\n",
      "Filtering content:  41% (5/12), 2.67 GiB | 32.29 MiB/s\n",
      "Filtering content:  50% (6/12), 2.67 GiB | 32.29 MiB/s\n",
      "Filtering content:  50% (6/12), 5.87 GiB | 3.11 MiB/s \n",
      "Filtering content:  58% (7/12), 5.87 GiB | 3.11 MiB/s\n",
      "Filtering content:  58% (7/12), 9.04 GiB | 9.66 MiB/s\n",
      "Filtering content:  66% (8/12), 9.04 GiB | 9.66 MiB/s\n",
      "Filtering content:  66% (8/12), 10.18 GiB | 2.39 MiB/s\n",
      "Filtering content:  75% (9/12), 10.18 GiB | 2.39 MiB/s\n",
      "Filtering content:  75% (9/12), 13.38 GiB | 365.00 KiB/s\n",
      "Filtering content:  83% (10/12), 13.38 GiB | 365.00 KiB/s\n",
      "Filtering content:  83% (10/12), 17.35 GiB | 314.00 KiB/s\n",
      "Filtering content:  91% (11/12), 17.35 GiB | 314.00 KiB/s\n",
      "Filtering content:  91% (11/12), 21.32 GiB | 5.26 MiB/s  \n",
      "Filtering content: 100% (12/12), 21.32 GiB | 5.26 MiB/s\n",
      "Filtering content: 100% (12/12), 24.50 GiB | 2.80 MiB/s\n",
      "Filtering content: 100% (12/12), 24.50 GiB | 18.55 MiB/s, done.\n"
     ]
    }
   ],
   "source": [
    "!git lfs install\n",
    "!git clone https://huggingface.co/runwayml/stable-diffusion-v1-5"
   ],
   "metadata": {
    "collapsed": false,
    "ExecuteTime": {
     "end_time": "2023-06-02T01:07:57.473276700Z",
     "start_time": "2023-06-02T00:45:20.428713100Z"
    }
   }
  },
  {
   "cell_type": "code",
   "execution_count": 30,
   "outputs": [
    {
     "name": "stderr",
     "output_type": "stream",
     "text": [
      "vae\\diffusion_pytorch_model.safetensors not found\n",
      "`text_config_dict` is provided which will be used to initialize `CLIPTextConfig`. The value `text_config[\"id2label\"]` will be overriden.\n"
     ]
    },
    {
     "data": {
      "text/plain": "[diffusers.schedulers.scheduling_k_dpm_2_discrete.KDPM2DiscreteScheduler,\n diffusers.schedulers.scheduling_lms_discrete.LMSDiscreteScheduler,\n diffusers.schedulers.scheduling_euler_ancestral_discrete.EulerAncestralDiscreteScheduler,\n diffusers.schedulers.scheduling_euler_discrete.EulerDiscreteScheduler,\n diffusers.utils.dummy_torch_and_torchsde_objects.DPMSolverSDEScheduler,\n diffusers.schedulers.scheduling_pndm.PNDMScheduler,\n diffusers.schedulers.scheduling_k_dpm_2_ancestral_discrete.KDPM2AncestralDiscreteScheduler,\n diffusers.schedulers.scheduling_heun_discrete.HeunDiscreteScheduler,\n diffusers.schedulers.scheduling_deis_multistep.DEISMultistepScheduler,\n diffusers.schedulers.scheduling_ddim.DDIMScheduler,\n diffusers.schedulers.scheduling_unipc_multistep.UniPCMultistepScheduler,\n diffusers.schedulers.scheduling_dpmsolver_multistep.DPMSolverMultistepScheduler,\n diffusers.schedulers.scheduling_dpmsolver_singlestep.DPMSolverSinglestepScheduler,\n diffusers.schedulers.scheduling_ddpm.DDPMScheduler]"
     },
     "execution_count": 30,
     "metadata": {},
     "output_type": "execute_result"
    }
   ],
   "source": [
    "from diffusers import DiffusionPipeline\n",
    "\n",
    "repo_id = \"runwayml/stable-diffusion-v1-5\"\n",
    "stable_diffusion = DiffusionPipeline.from_pretrained(repo_id)\n",
    "stable_diffusion.scheduler.compatibles"
   ],
   "metadata": {
    "collapsed": false,
    "ExecuteTime": {
     "end_time": "2023-06-02T01:38:27.456488700Z",
     "start_time": "2023-06-02T01:38:23.252972200Z"
    }
   }
  },
  {
   "cell_type": "code",
   "execution_count": 31,
   "outputs": [
    {
     "name": "stderr",
     "output_type": "stream",
     "text": [
      "vae\\diffusion_pytorch_model.safetensors not found\n",
      "`text_config_dict` is provided which will be used to initialize `CLIPTextConfig`. The value `text_config[\"id2label\"]` will be overriden.\n"
     ]
    }
   ],
   "source": [
    "from diffusers import DiffusionPipeline, EulerDiscreteScheduler, DPMSolverMultistepScheduler\n",
    "\n",
    "repo_id = \"runwayml/stable-diffusion-v1-5\"\n",
    "\n",
    "scheduler = EulerDiscreteScheduler.from_pretrained(repo_id, subfolder=\"scheduler\")\n",
    "\n",
    "stable_diffusion = DiffusionPipeline.from_pretrained(repo_id, scheduler=scheduler)"
   ],
   "metadata": {
    "collapsed": false,
    "ExecuteTime": {
     "end_time": "2023-06-02T01:38:36.906735600Z",
     "start_time": "2023-06-02T01:38:32.250783600Z"
    }
   }
  },
  {
   "cell_type": "code",
   "execution_count": 32,
   "outputs": [
    {
     "name": "stderr",
     "output_type": "stream",
     "text": [
      "vae\\diffusion_pytorch_model.safetensors not found\n",
      "You have disabled the safety checker for <class 'diffusers.pipelines.stable_diffusion.pipeline_stable_diffusion.StableDiffusionPipeline'> by passing `safety_checker=None`. Ensure that you abide to the conditions of the Stable Diffusion license and do not expose unfiltered results in services or applications open to the public. Both the diffusers team and Hugging Face strongly recommend to keep the safety filter enabled in all public facing circumstances, disabling it only for use-cases that involve analyzing network behavior or auditing its results. For more information, please have a look at https://github.com/huggingface/diffusers/pull/254 .\n"
     ]
    }
   ],
   "source": [
    "from diffusers import DiffusionPipeline\n",
    "\n",
    "repo_id = \"runwayml/stable-diffusion-v1-5\"\n",
    "stable_diffusion = DiffusionPipeline.from_pretrained(repo_id, safety_checker=None)"
   ],
   "metadata": {
    "collapsed": false,
    "ExecuteTime": {
     "end_time": "2023-06-02T01:38:46.067815100Z",
     "start_time": "2023-06-02T01:38:42.896834500Z"
    }
   }
  },
  {
   "cell_type": "code",
   "execution_count": 33,
   "outputs": [
    {
     "name": "stderr",
     "output_type": "stream",
     "text": [
      "vae\\diffusion_pytorch_model.safetensors not found\n",
      "`text_config_dict` is provided which will be used to initialize `CLIPTextConfig`. The value `text_config[\"id2label\"]` will be overriden.\n"
     ]
    }
   ],
   "source": [
    "from diffusers import StableDiffusionPipeline, StableDiffusionImg2ImgPipeline\n",
    "\n",
    "model_id = \"runwayml/stable-diffusion-v1-5\"\n",
    "stable_diffusion_txt2img = StableDiffusionPipeline.from_pretrained(model_id)\n",
    "\n",
    "components = stable_diffusion_txt2img.components"
   ],
   "metadata": {
    "collapsed": false,
    "ExecuteTime": {
     "end_time": "2023-06-02T01:38:53.195670500Z",
     "start_time": "2023-06-02T01:38:48.583208400Z"
    }
   }
  },
  {
   "cell_type": "code",
   "execution_count": 34,
   "outputs": [],
   "source": [
    "stable_diffusion_img2img = StableDiffusionImg2ImgPipeline(**components)"
   ],
   "metadata": {
    "collapsed": false,
    "ExecuteTime": {
     "end_time": "2023-06-02T01:38:54.903215800Z",
     "start_time": "2023-06-02T01:38:54.789706600Z"
    }
   }
  },
  {
   "cell_type": "code",
   "execution_count": 35,
   "outputs": [
    {
     "name": "stderr",
     "output_type": "stream",
     "text": [
      "vae\\diffusion_pytorch_model.safetensors not found\n",
      "`text_config_dict` is provided which will be used to initialize `CLIPTextConfig`. The value `text_config[\"id2label\"]` will be overriden.\n"
     ]
    }
   ],
   "source": [
    "from diffusers import StableDiffusionPipeline, StableDiffusionImg2ImgPipeline\n",
    "\n",
    "model_id = \"runwayml/stable-diffusion-v1-5\"\n",
    "stable_diffusion_txt2img = StableDiffusionPipeline.from_pretrained(model_id)\n",
    "stable_diffusion_img2img = StableDiffusionImg2ImgPipeline(\n",
    "    vae=stable_diffusion_txt2img.vae,\n",
    "    text_encoder=stable_diffusion_txt2img.text_encoder,\n",
    "    tokenizer=stable_diffusion_txt2img.tokenizer,\n",
    "    unet=stable_diffusion_txt2img.unet,\n",
    "    scheduler=stable_diffusion_txt2img.scheduler,\n",
    "    safety_checker=None,\n",
    "    feature_extractor=None,\n",
    "    requires_safety_checker=False,\n",
    ")"
   ],
   "metadata": {
    "collapsed": false,
    "ExecuteTime": {
     "end_time": "2023-06-02T01:39:02.139708300Z",
     "start_time": "2023-06-02T01:38:58.420848700Z"
    }
   }
  },
  {
   "cell_type": "code",
   "execution_count": 36,
   "outputs": [
    {
     "name": "stderr",
     "output_type": "stream",
     "text": [
      "vae\\diffusion_pytorch_model.safetensors not found\n",
      "`text_config_dict` is provided which will be used to initialize `CLIPTextConfig`. The value `text_config[\"id2label\"]` will be overriden.\n",
      "vae\\diffusion_pytorch_model.safetensors not found\n",
      "`text_config_dict` is provided which will be used to initialize `CLIPTextConfig`. The value `text_config[\"id2label\"]` will be overriden.\n"
     ]
    }
   ],
   "source": [
    "import torch\n",
    "from diffusers import DiffusionPipeline\n",
    "\n",
    "# load fp16 variant\n",
    "stable_diffusion = DiffusionPipeline.from_pretrained(\n",
    "    \"runwayml/stable-diffusion-v1-5\", variant=\"fp16\", torch_dtype=torch.float16\n",
    ")\n",
    "# load non_ema variant\n",
    "stable_diffusion = DiffusionPipeline.from_pretrained(\"runwayml/stable-diffusion-v1-5\", variant=\"non_ema\")"
   ],
   "metadata": {
    "collapsed": false,
    "ExecuteTime": {
     "end_time": "2023-06-02T01:39:15.446742Z",
     "start_time": "2023-06-02T01:39:06.569327600Z"
    }
   }
  },
  {
   "cell_type": "code",
   "execution_count": 37,
   "outputs": [],
   "source": [
    "from diffusers import DiffusionPipeline\n",
    "\n",
    "# save as fp16 variant\n",
    "stable_diffusion.save_pretrained(\"runwayml/stable-diffusion-v1-5\", variant=\"fp16\")\n",
    "# save as non-ema variant\n",
    "stable_diffusion.save_pretrained(\"runwayml/stable-diffusion-v1-5\", variant=\"non_ema\")"
   ],
   "metadata": {
    "collapsed": false,
    "ExecuteTime": {
     "end_time": "2023-06-02T01:39:24.145831800Z",
     "start_time": "2023-06-02T01:39:15.446742Z"
    }
   }
  },
  {
   "cell_type": "code",
   "execution_count": 39,
   "outputs": [],
   "source": [
    "from diffusers import UNet2DConditionModel\n",
    "\n",
    "repo_id = \"runwayml/stable-diffusion-v1-5\"  # wrong repository\n",
    "# repo_id = \"diffusers/stable-diffusion-variants\"\n",
    "model = UNet2DConditionModel.from_pretrained(repo_id, subfolder=\"unet\")"
   ],
   "metadata": {
    "collapsed": false,
    "ExecuteTime": {
     "end_time": "2023-06-02T01:41:49.640007700Z",
     "start_time": "2023-06-02T01:41:49.321361600Z"
    }
   }
  },
  {
   "cell_type": "code",
   "execution_count": 40,
   "outputs": [],
   "source": [
    "from diffusers import UNet2DModel\n",
    "\n",
    "repo_id = \"google/ddpm-cifar10-32\"\n",
    "model = UNet2DModel.from_pretrained(repo_id)"
   ],
   "metadata": {
    "collapsed": false,
    "ExecuteTime": {
     "end_time": "2023-06-02T01:41:56.313353700Z",
     "start_time": "2023-06-02T01:41:55.488276Z"
    }
   }
  },
  {
   "cell_type": "code",
   "execution_count": 44,
   "outputs": [],
   "source": [
    "from diffusers import UNet2DConditionModel\n",
    "\n",
    "repo_id = \"runwayml/stable-diffusion-v1-5\"  # wrong repository\n",
    "# repo_id = \"diffusers/stable-diffusion-variants\"\n",
    "# NOT 'non-ema' BUT 'non_ema'\n",
    "model = UNet2DConditionModel.from_pretrained(repo_id, subfolder=\"unet\", variant=\"non_ema\")\n",
    "model.save_pretrained(\"./local-unet\", variant=\"non_ema\")"
   ],
   "metadata": {
    "collapsed": false,
    "ExecuteTime": {
     "end_time": "2023-06-02T01:46:21.740614200Z",
     "start_time": "2023-06-02T01:46:17.441874900Z"
    }
   }
  },
  {
   "cell_type": "code",
   "execution_count": 48,
   "outputs": [],
   "source": [
    "from diffusers import StableDiffusionPipeline\n",
    "from diffusers import (\n",
    "    DDPMScheduler,\n",
    "    DDIMScheduler,\n",
    "    PNDMScheduler,\n",
    "    LMSDiscreteScheduler,\n",
    "    EulerDiscreteScheduler,\n",
    "    EulerAncestralDiscreteScheduler,\n",
    "    DPMSolverMultistepScheduler,\n",
    ")\n",
    "\n",
    "repo_id = \"runwayml/stable-diffusion-v1-5\"\n",
    "\n",
    "ddpm = DDPMScheduler.from_pretrained(repo_id, subfolder=\"scheduler\")\n",
    "ddim = DDIMScheduler.from_pretrained(repo_id, subfolder=\"scheduler\")\n",
    "pndm = PNDMScheduler.from_pretrained(repo_id, subfolder=\"scheduler\")\n",
    "lms = LMSDiscreteScheduler.from_pretrained(repo_id, subfolder=\"scheduler\")\n",
    "euler_anc = EulerAncestralDiscreteScheduler.from_pretrained(repo_id, subfolder=\"scheduler\")\n",
    "euler = EulerDiscreteScheduler.from_pretrained(repo_id, subfolder=\"scheduler\")\n",
    "dpm = DPMSolverMultistepScheduler.from_pretrained(repo_id, subfolder=\"scheduler\")\n",
    "\n",
    "# replace `dpm` with any of `ddpm`, `ddim`, `pndm`, `lms`, `euler_anc`, `euler`\n",
    "pipeline = StableDiffusionPipeline.from_pretrained(repo_id, scheduler=dpm)"
   ],
   "metadata": {
    "collapsed": false,
    "ExecuteTime": {
     "end_time": "2023-06-02T01:48:05.332375800Z",
     "start_time": "2023-06-02T01:48:04.405214900Z"
    }
   }
  },
  {
   "cell_type": "code",
   "execution_count": 49,
   "outputs": [
    {
     "name": "stdout",
     "output_type": "stream",
     "text": [
      "StableDiffusionPipeline {\n",
      "  \"_class_name\": \"StableDiffusionPipeline\",\n",
      "  \"_diffusers_version\": \"0.17.0.dev0\",\n",
      "  \"feature_extractor\": [\n",
      "    \"transformers\",\n",
      "    \"CLIPImageProcessor\"\n",
      "  ],\n",
      "  \"requires_safety_checker\": true,\n",
      "  \"safety_checker\": [\n",
      "    \"stable_diffusion\",\n",
      "    \"StableDiffusionSafetyChecker\"\n",
      "  ],\n",
      "  \"scheduler\": [\n",
      "    \"diffusers\",\n",
      "    \"PNDMScheduler\"\n",
      "  ],\n",
      "  \"text_encoder\": [\n",
      "    \"transformers\",\n",
      "    \"CLIPTextModel\"\n",
      "  ],\n",
      "  \"tokenizer\": [\n",
      "    \"transformers\",\n",
      "    \"CLIPTokenizer\"\n",
      "  ],\n",
      "  \"unet\": [\n",
      "    \"diffusers\",\n",
      "    \"UNet2DConditionModel\"\n",
      "  ],\n",
      "  \"vae\": [\n",
      "    \"diffusers\",\n",
      "    \"AutoencoderKL\"\n",
      "  ]\n",
      "}\n",
      "\n"
     ]
    }
   ],
   "source": [
    "from diffusers import DiffusionPipeline\n",
    "\n",
    "repo_id = \"runwayml/stable-diffusion-v1-5\"\n",
    "pipeline = DiffusionPipeline.from_pretrained(repo_id)\n",
    "print(pipeline)"
   ],
   "metadata": {
    "collapsed": false,
    "ExecuteTime": {
     "end_time": "2023-06-02T01:48:22.214868200Z",
     "start_time": "2023-06-02T01:48:21.306496800Z"
    }
   }
  },
  {
   "cell_type": "code",
   "execution_count": 50,
   "outputs": [
    {
     "data": {
      "text/plain": "CLIPTokenizer(name_or_path='runwayml/stable-diffusion-v1-5\\tokenizer', vocab_size=49408, model_max_length=77, is_fast=False, padding_side='right', truncation_side='right', special_tokens={'bos_token': AddedToken(\"<|startoftext|>\", rstrip=False, lstrip=False, single_word=False, normalized=True), 'eos_token': AddedToken(\"<|endoftext|>\", rstrip=False, lstrip=False, single_word=False, normalized=True), 'unk_token': AddedToken(\"<|endoftext|>\", rstrip=False, lstrip=False, single_word=False, normalized=True), 'pad_token': '<|endoftext|>'}, clean_up_tokenization_spaces=True)"
     },
     "execution_count": 50,
     "metadata": {},
     "output_type": "execute_result"
    }
   ],
   "source": [
    "pipeline.tokenizer"
   ],
   "metadata": {
    "collapsed": false,
    "ExecuteTime": {
     "end_time": "2023-06-02T01:48:53.250948800Z",
     "start_time": "2023-06-02T01:48:53.245959500Z"
    }
   }
  },
  {
   "cell_type": "code",
   "execution_count": null,
   "outputs": [],
   "source": [],
   "metadata": {
    "collapsed": false
   }
  }
 ],
 "metadata": {
  "kernelspec": {
   "display_name": "Python 3",
   "language": "python",
   "name": "python3"
  },
  "language_info": {
   "codemirror_mode": {
    "name": "ipython",
    "version": 2
   },
   "file_extension": ".py",
   "mimetype": "text/x-python",
   "name": "python",
   "nbconvert_exporter": "python",
   "pygments_lexer": "ipython2",
   "version": "2.7.6"
  }
 },
 "nbformat": 4,
 "nbformat_minor": 0
}
