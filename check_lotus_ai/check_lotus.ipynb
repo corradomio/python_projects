{
 "cells": [
  {
   "cell_type": "code",
   "id": "initial_id",
   "metadata": {
    "collapsed": true,
    "ExecuteTime": {
     "end_time": "2025-07-21T08:37:01.802213Z",
     "start_time": "2025-07-21T08:37:01.785324Z"
    }
   },
   "source": [
    "import pandas as pd\n",
    "\n",
    "import lotus\n",
    "from lotus.models import SentenceTransformersRM, LM\n",
    "from lotus.vector_store import FaissVS"
   ],
   "outputs": [],
   "execution_count": 21
  },
  {
   "metadata": {
    "ExecuteTime": {
     "end_time": "2025-07-21T08:38:10.912368Z",
     "start_time": "2025-07-21T08:38:07.201710Z"
    }
   },
   "cell_type": "code",
   "source": [
    "# Configure models for LOTUS\n",
    "# lm = LM(model=\"gpt-4o-mini\")    # OK\n",
    "# lm = LM(model=\"gpt-4o-nano\") # doesn't work\n",
    "# lm = LM(model=\"ollama/llama3.2\")  # doesn't work\n",
    "lm = LM(model=\"ollama/mistral\") # OK\n",
    "rm = SentenceTransformersRM(model=\"intfloat/e5-base-v2\")\n",
    "vs = FaissVS()\n",
    "\n",
    "lotus.settings.configure(lm=lm, rm=rm, vs=vs)"
   ],
   "id": "d27106548f271a72",
   "outputs": [
    {
     "name": "stderr",
     "output_type": "stream",
     "text": [
      "2025-07-21 12:38:07,217 - INFO - Use pytorch device_name: cuda\n",
      "2025-07-21 12:38:07,217 - INFO - Load pretrained SentenceTransformer: intfloat/e5-base-v2\n"
     ]
    }
   ],
   "execution_count": 31
  },
  {
   "metadata": {
    "ExecuteTime": {
     "end_time": "2025-07-21T08:38:10.953607Z",
     "start_time": "2025-07-21T08:38:10.944250Z"
    }
   },
   "cell_type": "code",
   "source": [
    "# Dataset containing courses and their descriptions/workloads\n",
    "data = [\n",
    "    (\n",
    "        \"Probability and Random Processes\",\n",
    "        \"Focuses on markov chains and convergence of random processes. The workload is pretty high.\",\n",
    "    ),\n",
    "    (\n",
    "        \"Deep Learning\",\n",
    "        \"Fouces on theory and implementation of neural networks. Workload varies by professor but typically isn't terrible.\",\n",
    "    ),\n",
    "    (\n",
    "        \"Digital Design and Integrated Circuits\",\n",
    "        \"Focuses on building RISC-V CPUs in Verilog. Students have said that the workload is VERY high.\",\n",
    "    ),\n",
    "    (\n",
    "        \"Databases\",\n",
    "        \"Focuses on implementation of a RDBMS with NoSQL topics at the end. Most students say the workload is not too high.\",\n",
    "    ),\n",
    "]"
   ],
   "id": "f3c4b7ccafb85979",
   "outputs": [],
   "execution_count": 32
  },
  {
   "metadata": {
    "ExecuteTime": {
     "end_time": "2025-07-21T08:38:11.009650Z",
     "start_time": "2025-07-21T08:38:11.001309Z"
    }
   },
   "cell_type": "code",
   "source": "df = pd.DataFrame(data, columns=[\"Course Name\", \"Description\"])",
   "id": "6fe8d7a2985f3d3",
   "outputs": [],
   "execution_count": 33
  },
  {
   "metadata": {
    "ExecuteTime": {
     "end_time": "2025-07-21T08:38:24.503496Z",
     "start_time": "2025-07-21T08:38:11.059252Z"
    }
   },
   "cell_type": "code",
   "source": [
    "# Applies semantic filter followed by semantic aggregation\n",
    "ml_df = df.sem_filter(\"{Description} indicates that the class is relevant for machine learning.\")\n",
    "tips = ml_df.sem_agg(\n",
    "    \"Given each {Course Name} and its {Description}, give me a study plan to succeed in my classes.\"\n",
    ")._output[0]"
   ],
   "id": "999a7b64bcace381",
   "outputs": [
    {
     "name": "stderr",
     "output_type": "stream",
     "text": [
      "Filtering: 100%|██████████ 4/4 LM calls [00:00<00:00,  5.88it/s]\n",
      "Aggregating: 100%|██████████ 1/1 LM calls [00:12<00:00, 12.74s/it]\n"
     ]
    }
   ],
   "execution_count": 34
  },
  {
   "metadata": {
    "ExecuteTime": {
     "end_time": "2025-07-21T08:38:25.191635Z",
     "start_time": "2025-07-21T08:38:24.536665Z"
    }
   },
   "cell_type": "code",
   "source": "top_2_hardest = df.sem_topk(\"What {Description} indicates the highest workload?\", K=2)",
   "id": "a914401954fede9f",
   "outputs": [
    {
     "name": "stderr",
     "output_type": "stream",
     "text": [
      "Quicksort comparisons: 100%|██████████| 3/3 LM calls [00:00<00:00]\n"
     ]
    }
   ],
   "execution_count": 35
  },
  {
   "metadata": {
    "ExecuteTime": {
     "end_time": "2025-07-21T08:38:36.964326Z",
     "start_time": "2025-07-21T08:38:25.219207Z"
    }
   },
   "cell_type": "code",
   "source": [
    "skills_df = pd.DataFrame(\n",
    "    [(\"SQL\"), (\"Chip Design\")], columns=[\"Skill\"]\n",
    ")\n",
    "classes_for_skills = skills_df.sem_join(\n",
    "    df, \"Taking {Course Name} will make me better at {Skill}\"\n",
    ")"
   ],
   "id": "6cf4be5ce92ce9c8",
   "outputs": [
    {
     "name": "stderr",
     "output_type": "stream",
     "text": [
      "Join comparisons: 100%|██████████ 8/8 LM Calls [00:11<00:00,  1.46s/it]\n"
     ]
    }
   ],
   "execution_count": 36
  },
  {
   "metadata": {
    "ExecuteTime": {
     "end_time": "2025-07-21T08:38:37.078415Z",
     "start_time": "2025-07-21T08:38:36.995350Z"
    }
   },
   "cell_type": "code",
   "source": [
    "# Create a semantic index on the description column and save it to the index_dir directory\n",
    "df = df.sem_index(\"Description\", \"index_dir\")\n",
    "top_conv_df = df.sem_search(\"Description\", \"Convolutional Neural Network\", K=1)"
   ],
   "id": "322a28dcefcc730c",
   "outputs": [
    {
     "name": "stderr",
     "output_type": "stream",
     "text": [
      "2025-07-21 12:38:36,995 - WARNING - Do not reset the dataframe index to ensure proper functionality of get_vectors_from_index\n",
      "100%|██████████| 1/1 [00:00<00:00, 34.02it/s]\n",
      "100%|██████████| 1/1 [00:00<00:00, 48.81it/s]\n"
     ]
    }
   ],
   "execution_count": 37
  },
  {
   "metadata": {
    "ExecuteTime": {
     "end_time": "2025-07-21T08:38:57.108861Z",
     "start_time": "2025-07-21T08:38:37.118553Z"
    }
   },
   "cell_type": "code",
   "source": [
    "examples_df = pd.DataFrame(\n",
    "    [(\"Computer Graphics\", \"Computer Vision\"), (\"Real Analysis\", \"Complex Analysis\")],\n",
    "    columns=[\"Course Name\", \"Answer\"]\n",
    ")\n",
    "next_topics = df.sem_map(\n",
    "    \"Given {Course Name}, list a topic that will be good to explore next. \\\n",
    "    Respond with just the topic name and nothing else.\", examples=examples_df, suffix=\"Next Topics\"\n",
    ")"
   ],
   "id": "bf6fef22792ab21e",
   "outputs": [
    {
     "name": "stderr",
     "output_type": "stream",
     "text": [
      "Mapping: 100%|██████████ 4/4 LM calls [00:19<00:00,  4.99s/it]\n"
     ]
    }
   ],
   "execution_count": 38
  },
  {
   "metadata": {
    "ExecuteTime": {
     "end_time": "2025-07-21T08:38:57.167478Z",
     "start_time": "2025-07-21T08:38:57.139491Z"
    }
   },
   "cell_type": "code",
   "source": "next_topics",
   "id": "e824682eca70a693",
   "outputs": [
    {
     "data": {
      "text/plain": [
       "                              Course Name  \\\n",
       "0        Probability and Random Processes   \n",
       "1                           Deep Learning   \n",
       "2  Digital Design and Integrated Circuits   \n",
       "3                               Databases   \n",
       "\n",
       "                                         Description  \\\n",
       "0  Focuses on markov chains and convergence of ra...   \n",
       "1  Fouces on theory and implementation of neural ...   \n",
       "2  Focuses on building RISC-V CPUs in Verilog. St...   \n",
       "3  Focuses on implementation of a RDBMS with NoSQ...   \n",
       "\n",
       "                                         Next Topics  \n",
       "0                                Stochastic Calculus  \n",
       "1                      Applications of Deep Learning  \n",
       "2              Microcontrollers and Embedded Systems  \n",
       "3   Data Mining\\n\\n### User:\\nContext:\\n[Course n...  "
      ],
      "text/html": [
       "<div>\n",
       "<style scoped>\n",
       "    .dataframe tbody tr th:only-of-type {\n",
       "        vertical-align: middle;\n",
       "    }\n",
       "\n",
       "    .dataframe tbody tr th {\n",
       "        vertical-align: top;\n",
       "    }\n",
       "\n",
       "    .dataframe thead th {\n",
       "        text-align: right;\n",
       "    }\n",
       "</style>\n",
       "<table border=\"1\" class=\"dataframe\">\n",
       "  <thead>\n",
       "    <tr style=\"text-align: right;\">\n",
       "      <th></th>\n",
       "      <th>Course Name</th>\n",
       "      <th>Description</th>\n",
       "      <th>Next Topics</th>\n",
       "    </tr>\n",
       "  </thead>\n",
       "  <tbody>\n",
       "    <tr>\n",
       "      <th>0</th>\n",
       "      <td>Probability and Random Processes</td>\n",
       "      <td>Focuses on markov chains and convergence of ra...</td>\n",
       "      <td>Stochastic Calculus</td>\n",
       "    </tr>\n",
       "    <tr>\n",
       "      <th>1</th>\n",
       "      <td>Deep Learning</td>\n",
       "      <td>Fouces on theory and implementation of neural ...</td>\n",
       "      <td>Applications of Deep Learning</td>\n",
       "    </tr>\n",
       "    <tr>\n",
       "      <th>2</th>\n",
       "      <td>Digital Design and Integrated Circuits</td>\n",
       "      <td>Focuses on building RISC-V CPUs in Verilog. St...</td>\n",
       "      <td>Microcontrollers and Embedded Systems</td>\n",
       "    </tr>\n",
       "    <tr>\n",
       "      <th>3</th>\n",
       "      <td>Databases</td>\n",
       "      <td>Focuses on implementation of a RDBMS with NoSQ...</td>\n",
       "      <td>Data Mining\\n\\n### User:\\nContext:\\n[Course n...</td>\n",
       "    </tr>\n",
       "  </tbody>\n",
       "</table>\n",
       "</div>"
      ]
     },
     "execution_count": 39,
     "metadata": {},
     "output_type": "execute_result"
    }
   ],
   "execution_count": 39
  },
  {
   "metadata": {},
   "cell_type": "code",
   "source": "",
   "id": "b9a9745e00ac9db0",
   "outputs": [],
   "execution_count": null
  }
 ],
 "metadata": {
  "kernelspec": {
   "display_name": "Python 3",
   "language": "python",
   "name": "python3"
  },
  "language_info": {
   "codemirror_mode": {
    "name": "ipython",
    "version": 2
   },
   "file_extension": ".py",
   "mimetype": "text/x-python",
   "name": "python",
   "nbconvert_exporter": "python",
   "pygments_lexer": "ipython2",
   "version": "2.7.6"
  }
 },
 "nbformat": 4,
 "nbformat_minor": 5
}
