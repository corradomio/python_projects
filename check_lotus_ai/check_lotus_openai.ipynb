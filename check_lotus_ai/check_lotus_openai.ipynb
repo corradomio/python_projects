{
 "cells": [
  {
   "metadata": {},
   "cell_type": "markdown",
   "source": "https://medium.com/@sridevi.gogusetty/from-rag-to-tag-leveraging-the-power-of-table-augmented-generation-tag-a-leap-beyond-bc894b2d34b9",
   "id": "b2aff723fc434d7c"
  },
  {
   "cell_type": "code",
   "id": "initial_id",
   "metadata": {
    "collapsed": true,
    "ExecuteTime": {
     "end_time": "2025-07-21T08:33:04.150108Z",
     "start_time": "2025-07-21T08:33:04.134406Z"
    }
   },
   "source": [
    "import pandas as pd\n",
    "import lotus\n",
    "from lotus.models import LM, SentenceTransformersRM, CrossEncoderReranker\n",
    "from qdrant_client import QdrantClient\n",
    "from lotus.vector_store import QdrantVS\n",
    "from langchain_openai import ChatOpenAI\n",
    "from lotus.vector_store import FaissVS\n",
    "import os"
   ],
   "outputs": [],
   "execution_count": 15
  },
  {
   "metadata": {
    "ExecuteTime": {
     "end_time": "2025-07-21T08:33:10.194838Z",
     "start_time": "2025-07-21T08:33:04.185007Z"
    }
   },
   "cell_type": "code",
   "source": [
    "# lm = LM(model='groq/llama-3.1-70b-versatile')\n",
    "# lm = LM(model='openai/gpt-4.1-nano')\n",
    "lm = LM(model=\"ollama/llama3.2\")\n",
    "rm = SentenceTransformersRM(model=\"intfloat/e5-base-v2\")\n",
    "reranker = CrossEncoderReranker(model=\"mixedbread-ai/mxbai-rerank-large-v1\")\n",
    "\n",
    "# client = QdrantClient(url=\"http://localhost:6333\")\n",
    "# vs = QdrantVS(client)\n",
    "vs = FaissVS()"
   ],
   "id": "9d9c0037bf6381a",
   "outputs": [
    {
     "name": "stderr",
     "output_type": "stream",
     "text": [
      "2025-07-21 12:33:04,191 - INFO - Use pytorch device_name: cuda\n",
      "2025-07-21 12:33:04,191 - INFO - Load pretrained SentenceTransformer: intfloat/e5-base-v2\n",
      "2025-07-21 12:33:09,729 - INFO - Use pytorch device: cuda\n"
     ]
    }
   ],
   "execution_count": 16
  },
  {
   "metadata": {
    "ExecuteTime": {
     "end_time": "2025-07-21T08:33:10.335941Z",
     "start_time": "2025-07-21T08:33:10.221997Z"
    }
   },
   "cell_type": "code",
   "source": "lotus.settings.configure(lm=lm, rm=rm, reranker=reranker, vs=vs)",
   "id": "70c3d75530dc4f2",
   "outputs": [],
   "execution_count": 17
  },
  {
   "metadata": {
    "ExecuteTime": {
     "end_time": "2025-07-21T08:33:10.373037Z",
     "start_time": "2025-07-21T08:33:10.362980Z"
    }
   },
   "cell_type": "code",
   "source": [
    "courses_data = {\n",
    "    \"Course Name\": [\n",
    "        \"History of the Atlantic World\",\n",
    "        \"Riemannian Geometry\",\n",
    "        \"Operating Systems\",\n",
    "        \"Food Science\",\n",
    "        \"Compilers\",\n",
    "        \"Intro to computer science\",\n",
    "    ]\n",
    "}\n",
    "skills_data = {\"Skill\": [\"Math\", \"Computer Science\"]}\n",
    "courses_df = pd.DataFrame(courses_data)\n",
    "skills_df = pd.DataFrame(skills_data)"
   ],
   "id": "e5e6720f1f4a9712",
   "outputs": [],
   "execution_count": 18
  },
  {
   "metadata": {
    "ExecuteTime": {
     "end_time": "2025-07-21T08:33:14.499536Z",
     "start_time": "2025-07-21T08:33:10.408362Z"
    }
   },
   "cell_type": "code",
   "source": [
    "from IPython.display import display, HTML\n",
    "df = pd.DataFrame(courses_data)\n",
    "user_instruction = \"What is a similar course to {Course Name}. Be concise.\"\n",
    "df = df.sem_map(user_instruction)\n",
    "display(df)"
   ],
   "id": "2c19bd56160643dc",
   "outputs": [
    {
     "name": "stderr",
     "output_type": "stream",
     "text": [
      "Mapping: 100%|██████████ 6/6 LM calls [00:03<00:00,  1.72it/s]\n"
     ]
    },
    {
     "data": {
      "text/plain": [
       "                     Course Name  \\\n",
       "0  History of the Atlantic World   \n",
       "1            Riemannian Geometry   \n",
       "2              Operating Systems   \n",
       "3                   Food Science   \n",
       "4                      Compilers   \n",
       "5      Intro to computer science   \n",
       "\n",
       "                                                _map  \n",
       "0  A similar course to \"History of the Atlantic W...  \n",
       "1  A similar course to \"Riemannian Geometry\" coul...  \n",
       "2  A similar course to \"Operating Systems\" could ...  \n",
       "3  A similar course to \"Food Science\" could be \"N...  \n",
       "4  A similar course to \"Compilers\" could be \"Algo...  \n",
       "5  A similar course to \"Intro to Computer Science...  "
      ],
      "text/html": [
       "<div>\n",
       "<style scoped>\n",
       "    .dataframe tbody tr th:only-of-type {\n",
       "        vertical-align: middle;\n",
       "    }\n",
       "\n",
       "    .dataframe tbody tr th {\n",
       "        vertical-align: top;\n",
       "    }\n",
       "\n",
       "    .dataframe thead th {\n",
       "        text-align: right;\n",
       "    }\n",
       "</style>\n",
       "<table border=\"1\" class=\"dataframe\">\n",
       "  <thead>\n",
       "    <tr style=\"text-align: right;\">\n",
       "      <th></th>\n",
       "      <th>Course Name</th>\n",
       "      <th>_map</th>\n",
       "    </tr>\n",
       "  </thead>\n",
       "  <tbody>\n",
       "    <tr>\n",
       "      <th>0</th>\n",
       "      <td>History of the Atlantic World</td>\n",
       "      <td>A similar course to \"History of the Atlantic W...</td>\n",
       "    </tr>\n",
       "    <tr>\n",
       "      <th>1</th>\n",
       "      <td>Riemannian Geometry</td>\n",
       "      <td>A similar course to \"Riemannian Geometry\" coul...</td>\n",
       "    </tr>\n",
       "    <tr>\n",
       "      <th>2</th>\n",
       "      <td>Operating Systems</td>\n",
       "      <td>A similar course to \"Operating Systems\" could ...</td>\n",
       "    </tr>\n",
       "    <tr>\n",
       "      <th>3</th>\n",
       "      <td>Food Science</td>\n",
       "      <td>A similar course to \"Food Science\" could be \"N...</td>\n",
       "    </tr>\n",
       "    <tr>\n",
       "      <th>4</th>\n",
       "      <td>Compilers</td>\n",
       "      <td>A similar course to \"Compilers\" could be \"Algo...</td>\n",
       "    </tr>\n",
       "    <tr>\n",
       "      <th>5</th>\n",
       "      <td>Intro to computer science</td>\n",
       "      <td>A similar course to \"Intro to Computer Science...</td>\n",
       "    </tr>\n",
       "  </tbody>\n",
       "</table>\n",
       "</div>"
      ]
     },
     "metadata": {},
     "output_type": "display_data"
    }
   ],
   "execution_count": 19
  },
  {
   "metadata": {
    "ExecuteTime": {
     "end_time": "2025-07-21T08:33:20.304814Z",
     "start_time": "2025-07-21T08:33:14.530613Z"
    }
   },
   "cell_type": "code",
   "source": [
    "df = pd.DataFrame(courses_data)\n",
    "user_instruction = \"{Course Name} requires a lot of math\"\n",
    "df = df.sem_filter(user_instruction)\n",
    "display(df)"
   ],
   "id": "8fe45fc00d7588c4",
   "outputs": [
    {
     "name": "stderr",
     "output_type": "stream",
     "text": [
      "Filtering: 100%|██████████ 6/6 LM calls [00:05<00:00,  1.17it/s]\n"
     ]
    },
    {
     "data": {
      "text/plain": [
       "           Course Name\n",
       "1  Riemannian Geometry"
      ],
      "text/html": [
       "<div>\n",
       "<style scoped>\n",
       "    .dataframe tbody tr th:only-of-type {\n",
       "        vertical-align: middle;\n",
       "    }\n",
       "\n",
       "    .dataframe tbody tr th {\n",
       "        vertical-align: top;\n",
       "    }\n",
       "\n",
       "    .dataframe thead th {\n",
       "        text-align: right;\n",
       "    }\n",
       "</style>\n",
       "<table border=\"1\" class=\"dataframe\">\n",
       "  <thead>\n",
       "    <tr style=\"text-align: right;\">\n",
       "      <th></th>\n",
       "      <th>Course Name</th>\n",
       "    </tr>\n",
       "  </thead>\n",
       "  <tbody>\n",
       "    <tr>\n",
       "      <th>1</th>\n",
       "      <td>Riemannian Geometry</td>\n",
       "    </tr>\n",
       "  </tbody>\n",
       "</table>\n",
       "</div>"
      ]
     },
     "metadata": {},
     "output_type": "display_data"
    }
   ],
   "execution_count": 20
  },
  {
   "metadata": {
    "ExecuteTime": {
     "end_time": "2025-07-21T08:33:24.651324Z",
     "start_time": "2025-07-21T08:33:20.346828Z"
    }
   },
   "cell_type": "code",
   "source": [
    "df = pd.DataFrame(courses_data)\n",
    "df = df.sem_agg(\"Summarize all {Course Name}\")\n",
    "display(df)"
   ],
   "id": "78fe2228c76d425b",
   "outputs": [
    {
     "name": "stderr",
     "output_type": "stream",
     "text": [
      "Aggregating: 100%|██████████ 1/1 LM calls [00:04<00:00,  4.16s/it]\n"
     ]
    },
    {
     "data": {
      "text/plain": [
       "                                             _output\n",
       "0  Based on the provided context from multiple do..."
      ],
      "text/html": [
       "<div>\n",
       "<style scoped>\n",
       "    .dataframe tbody tr th:only-of-type {\n",
       "        vertical-align: middle;\n",
       "    }\n",
       "\n",
       "    .dataframe tbody tr th {\n",
       "        vertical-align: top;\n",
       "    }\n",
       "\n",
       "    .dataframe thead th {\n",
       "        text-align: right;\n",
       "    }\n",
       "</style>\n",
       "<table border=\"1\" class=\"dataframe\">\n",
       "  <thead>\n",
       "    <tr style=\"text-align: right;\">\n",
       "      <th></th>\n",
       "      <th>_output</th>\n",
       "    </tr>\n",
       "  </thead>\n",
       "  <tbody>\n",
       "    <tr>\n",
       "      <th>0</th>\n",
       "      <td>Based on the provided context from multiple do...</td>\n",
       "    </tr>\n",
       "  </tbody>\n",
       "</table>\n",
       "</div>"
      ]
     },
     "metadata": {},
     "output_type": "display_data"
    }
   ],
   "execution_count": 21
  },
  {
   "metadata": {
    "ExecuteTime": {
     "end_time": "2025-07-21T08:33:24.717434Z",
     "start_time": "2025-07-21T08:33:24.701963Z"
    }
   },
   "cell_type": "code",
   "source": "df",
   "id": "874ac2bee2d1edcd",
   "outputs": [
    {
     "data": {
      "text/plain": [
       "                                             _output\n",
       "0  Based on the provided context from multiple do..."
      ],
      "text/html": [
       "<div>\n",
       "<style scoped>\n",
       "    .dataframe tbody tr th:only-of-type {\n",
       "        vertical-align: middle;\n",
       "    }\n",
       "\n",
       "    .dataframe tbody tr th {\n",
       "        vertical-align: top;\n",
       "    }\n",
       "\n",
       "    .dataframe thead th {\n",
       "        text-align: right;\n",
       "    }\n",
       "</style>\n",
       "<table border=\"1\" class=\"dataframe\">\n",
       "  <thead>\n",
       "    <tr style=\"text-align: right;\">\n",
       "      <th></th>\n",
       "      <th>_output</th>\n",
       "    </tr>\n",
       "  </thead>\n",
       "  <tbody>\n",
       "    <tr>\n",
       "      <th>0</th>\n",
       "      <td>Based on the provided context from multiple do...</td>\n",
       "    </tr>\n",
       "  </tbody>\n",
       "</table>\n",
       "</div>"
      ]
     },
     "execution_count": 22,
     "metadata": {},
     "output_type": "execute_result"
    }
   ],
   "execution_count": 22
  },
  {
   "metadata": {
    "ExecuteTime": {
     "end_time": "2025-07-21T08:33:33.085490Z",
     "start_time": "2025-07-21T08:33:24.819619Z"
    }
   },
   "cell_type": "code",
   "source": [
    "df = pd.DataFrame(courses_data)\n",
    "\n",
    "for method in [\"quick\", \"heap\", \"naive\"]:\n",
    "    sorted_df, stats = df.sem_topk(\n",
    "        \"Which {Course Name} requires the least math?\",\n",
    "        K=2,\n",
    "        method=method,\n",
    "        return_stats=True,\n",
    "    )\n",
    "    print(sorted_df)\n",
    "    print(stats)"
   ],
   "id": "20ecb6c06d4dc3cc",
   "outputs": [
    {
     "name": "stderr",
     "output_type": "stream",
     "text": [
      "Quicksort comparisons: 100%|██████████| 5/5 LM calls [00:01<00:00]\n",
      "Quicksort comparisons: 100%|██████████| 4/4 LM calls [00:00<00:00]\n"
     ]
    },
    {
     "name": "stdout",
     "output_type": "stream",
     "text": [
      "         Course Name\n",
      "0       Food Science\n",
      "1  Operating Systems\n",
      "{'total_tokens': 1186, 'total_llm_calls': 9, 'explanations': {}}\n"
     ]
    },
    {
     "name": "stderr",
     "output_type": "stream",
     "text": [
      "Heap comparisons: 100%|██████████ 1/1 LM calls [00:00<00:00,  2.96it/s]\n",
      "Heap comparisons: 100%|██████████ 1/1 LM calls [00:00<00:00,  2.84it/s]\n",
      "Heap comparisons: 100%|██████████ 1/1 LM calls [00:00<00:00,  2.89it/s]\n",
      "Heap comparisons: 100%|██████████ 1/1 LM calls [00:00<00:00,  2.72it/s]\n",
      "Heap comparisons: 100%|██████████ 1/1 LM calls [00:00<00:00,  2.77it/s]\n",
      "Heap comparisons: 100%|██████████ 1/1 LM calls [00:00<00:00,  2.62it/s]\n"
     ]
    },
    {
     "name": "stdout",
     "output_type": "stream",
     "text": [
      "                     Course Name\n",
      "0            Riemannian Geometry\n",
      "1  History of the Atlantic World\n",
      "{'total_tokens': 806, 'total_llm_calls': 6, 'explanations': {}}\n"
     ]
    },
    {
     "name": "stderr",
     "output_type": "stream",
     "text": [
      "All-pairs comparisons: 100%|██████████| 15/15 LM calls [00:03<00:00]"
     ]
    },
    {
     "name": "stdout",
     "output_type": "stream",
     "text": [
      "                 Course Name\n",
      "0  Intro to computer science\n",
      "1                  Compilers\n",
      "{'total_tokens': 1990, 'total_llm_calls': 15, 'explanations': {}}\n"
     ]
    },
    {
     "name": "stderr",
     "output_type": "stream",
     "text": [
      "\n"
     ]
    }
   ],
   "execution_count": 23
  },
  {
   "metadata": {
    "ExecuteTime": {
     "end_time": "2025-07-21T08:33:42.505123Z",
     "start_time": "2025-07-21T08:33:33.166143Z"
    }
   },
   "cell_type": "code",
   "source": [
    "skill_data = {\"Skill\": [\"Math\", \"Computer Science\"]}\n",
    "\n",
    "df1 = pd.DataFrame(courses_data)\n",
    "df2 = pd.DataFrame(skill_data)\n",
    "join_instruction = \"Taking {Course Name:left} will help me learn {Skill:right}\"\n",
    "res = df1.sem_join(df2, join_instruction)\n",
    "print(res)"
   ],
   "id": "90c7e4f07897572b",
   "outputs": [
    {
     "name": "stderr",
     "output_type": "stream",
     "text": [
      "Join comparisons: 100%|██████████ 12/12 LM Calls [00:09<00:00,  1.29it/s]"
     ]
    },
    {
     "name": "stdout",
     "output_type": "stream",
     "text": [
      "                 Course Name             Skill\n",
      "1        Riemannian Geometry              Math\n",
      "2          Operating Systems              Math\n",
      "2          Operating Systems  Computer Science\n",
      "4                  Compilers              Math\n",
      "4                  Compilers  Computer Science\n",
      "5  Intro to computer science              Math\n",
      "5  Intro to computer science  Computer Science\n"
     ]
    },
    {
     "name": "stderr",
     "output_type": "stream",
     "text": [
      "\n"
     ]
    }
   ],
   "execution_count": 24
  },
  {
   "metadata": {
    "ExecuteTime": {
     "end_time": "2025-07-21T08:33:42.607390Z",
     "start_time": "2025-07-21T08:33:42.557529Z"
    }
   },
   "cell_type": "code",
   "source": [
    "df = pd.DataFrame(courses_data)\n",
    "df = df.sem_index(\"Course Name\", \"course_name_index\").sem_cluster_by(\"Course Name\", 2)\n",
    "display(df)"
   ],
   "id": "e026a38dfb89e3b0",
   "outputs": [
    {
     "name": "stderr",
     "output_type": "stream",
     "text": [
      "2025-07-21 12:33:42,562 - WARNING - Do not reset the dataframe index to ensure proper functionality of get_vectors_from_index\n",
      "100%|██████████| 1/1 [00:00<00:00, 50.93it/s]\n"
     ]
    },
    {
     "data": {
      "text/plain": [
       "                     Course Name  cluster_id\n",
       "0  History of the Atlantic World           0\n",
       "1            Riemannian Geometry           0\n",
       "2              Operating Systems           1\n",
       "3                   Food Science           1\n",
       "4                      Compilers           1\n",
       "5      Intro to computer science           1"
      ],
      "text/html": [
       "<div>\n",
       "<style scoped>\n",
       "    .dataframe tbody tr th:only-of-type {\n",
       "        vertical-align: middle;\n",
       "    }\n",
       "\n",
       "    .dataframe tbody tr th {\n",
       "        vertical-align: top;\n",
       "    }\n",
       "\n",
       "    .dataframe thead th {\n",
       "        text-align: right;\n",
       "    }\n",
       "</style>\n",
       "<table border=\"1\" class=\"dataframe\">\n",
       "  <thead>\n",
       "    <tr style=\"text-align: right;\">\n",
       "      <th></th>\n",
       "      <th>Course Name</th>\n",
       "      <th>cluster_id</th>\n",
       "    </tr>\n",
       "  </thead>\n",
       "  <tbody>\n",
       "    <tr>\n",
       "      <th>0</th>\n",
       "      <td>History of the Atlantic World</td>\n",
       "      <td>0</td>\n",
       "    </tr>\n",
       "    <tr>\n",
       "      <th>1</th>\n",
       "      <td>Riemannian Geometry</td>\n",
       "      <td>0</td>\n",
       "    </tr>\n",
       "    <tr>\n",
       "      <th>2</th>\n",
       "      <td>Operating Systems</td>\n",
       "      <td>1</td>\n",
       "    </tr>\n",
       "    <tr>\n",
       "      <th>3</th>\n",
       "      <td>Food Science</td>\n",
       "      <td>1</td>\n",
       "    </tr>\n",
       "    <tr>\n",
       "      <th>4</th>\n",
       "      <td>Compilers</td>\n",
       "      <td>1</td>\n",
       "    </tr>\n",
       "    <tr>\n",
       "      <th>5</th>\n",
       "      <td>Intro to computer science</td>\n",
       "      <td>1</td>\n",
       "    </tr>\n",
       "  </tbody>\n",
       "</table>\n",
       "</div>"
      ]
     },
     "metadata": {},
     "output_type": "display_data"
    }
   ],
   "execution_count": 25
  },
  {
   "metadata": {
    "ExecuteTime": {
     "end_time": "2025-07-21T08:33:42.733428Z",
     "start_time": "2025-07-21T08:33:42.678339Z"
    }
   },
   "cell_type": "code",
   "source": [
    "df = pd.DataFrame(courses_data)\n",
    "df = df.sem_index(\"Course Name\", \"course_name_index\").sem_cluster_by(\"Course Name\", 2)\n",
    "display(df)"
   ],
   "id": "f66a3c8367756e66",
   "outputs": [
    {
     "name": "stderr",
     "output_type": "stream",
     "text": [
      "2025-07-21 12:33:42,681 - WARNING - Do not reset the dataframe index to ensure proper functionality of get_vectors_from_index\n",
      "100%|██████████| 1/1 [00:00<00:00, 34.10it/s]\n"
     ]
    },
    {
     "data": {
      "text/plain": [
       "                     Course Name  cluster_id\n",
       "0  History of the Atlantic World           0\n",
       "1            Riemannian Geometry           0\n",
       "2              Operating Systems           1\n",
       "3                   Food Science           1\n",
       "4                      Compilers           1\n",
       "5      Intro to computer science           1"
      ],
      "text/html": [
       "<div>\n",
       "<style scoped>\n",
       "    .dataframe tbody tr th:only-of-type {\n",
       "        vertical-align: middle;\n",
       "    }\n",
       "\n",
       "    .dataframe tbody tr th {\n",
       "        vertical-align: top;\n",
       "    }\n",
       "\n",
       "    .dataframe thead th {\n",
       "        text-align: right;\n",
       "    }\n",
       "</style>\n",
       "<table border=\"1\" class=\"dataframe\">\n",
       "  <thead>\n",
       "    <tr style=\"text-align: right;\">\n",
       "      <th></th>\n",
       "      <th>Course Name</th>\n",
       "      <th>cluster_id</th>\n",
       "    </tr>\n",
       "  </thead>\n",
       "  <tbody>\n",
       "    <tr>\n",
       "      <th>0</th>\n",
       "      <td>History of the Atlantic World</td>\n",
       "      <td>0</td>\n",
       "    </tr>\n",
       "    <tr>\n",
       "      <th>1</th>\n",
       "      <td>Riemannian Geometry</td>\n",
       "      <td>0</td>\n",
       "    </tr>\n",
       "    <tr>\n",
       "      <th>2</th>\n",
       "      <td>Operating Systems</td>\n",
       "      <td>1</td>\n",
       "    </tr>\n",
       "    <tr>\n",
       "      <th>3</th>\n",
       "      <td>Food Science</td>\n",
       "      <td>1</td>\n",
       "    </tr>\n",
       "    <tr>\n",
       "      <th>4</th>\n",
       "      <td>Compilers</td>\n",
       "      <td>1</td>\n",
       "    </tr>\n",
       "    <tr>\n",
       "      <th>5</th>\n",
       "      <td>Intro to computer science</td>\n",
       "      <td>1</td>\n",
       "    </tr>\n",
       "  </tbody>\n",
       "</table>\n",
       "</div>"
      ]
     },
     "metadata": {},
     "output_type": "display_data"
    }
   ],
   "execution_count": 26
  },
  {
   "metadata": {
    "ExecuteTime": {
     "end_time": "2025-07-21T08:33:42.788677Z",
     "start_time": "2025-07-21T08:33:42.778727Z"
    }
   },
   "cell_type": "code",
   "source": "",
   "id": "7b64d9dbd5b93492",
   "outputs": [],
   "execution_count": null
  }
 ],
 "metadata": {
  "kernelspec": {
   "display_name": "Python 3",
   "language": "python",
   "name": "python3"
  },
  "language_info": {
   "codemirror_mode": {
    "name": "ipython",
    "version": 2
   },
   "file_extension": ".py",
   "mimetype": "text/x-python",
   "name": "python",
   "nbconvert_exporter": "python",
   "pygments_lexer": "ipython2",
   "version": "2.7.6"
  }
 },
 "nbformat": 4,
 "nbformat_minor": 5
}
