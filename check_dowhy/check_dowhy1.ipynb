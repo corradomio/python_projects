{
 "cells": [
  {
   "cell_type": "code",
   "execution_count": 1,
   "metadata": {
    "collapsed": true
   },
   "outputs": [],
   "source": [
    "from dowhy import CausalModel\n",
    "import dowhy.datasets\n",
    "\n",
    "# Load some sample data\n",
    "data = dowhy.datasets.linear_dataset(\n",
    "    beta=10,\n",
    "    num_common_causes=5,\n",
    "    num_instruments=2,\n",
    "    num_samples=10000,\n",
    "    treatment_is_binary=True)"
   ]
  },
  {
   "cell_type": "code",
   "execution_count": 2,
   "outputs": [
    {
     "data": {
      "text/plain": "       Z0        Z1        W0        W1        W2        W3        W4     v0  \\\n0     1.0  0.355133  0.190482 -1.072800  1.180365 -0.633996  2.240428   True   \n1     0.0  0.762140  0.169120 -0.744933 -1.589044 -1.308587 -1.883595  False   \n2     0.0  0.685274  1.900399 -0.497099 -0.283240  0.182312  0.012888   True   \n3     0.0  0.905525  0.532450  0.058168  1.465729 -0.187283 -0.838909   True   \n4     0.0  0.377785  0.521210 -1.377270  0.378498 -0.370849  1.478437  False   \n...   ...       ...       ...       ...       ...       ...       ...    ...   \n9995  0.0  0.942763  0.332513 -1.246938 -1.024261 -0.386127  1.239500   True   \n9996  0.0  0.386906  0.009536 -0.620688  0.073553 -1.070046 -0.380256  False   \n9997  0.0  0.203533  1.295487 -0.521316  1.774002 -0.156980  0.198671   True   \n9998  1.0  0.084019 -0.170979 -0.285938  0.670517 -1.728015 -0.570021  False   \n9999  0.0  0.164763  1.580480 -1.179568  0.261968  0.115103 -0.020335  False   \n\n              y  \n0     14.963347  \n1    -11.394299  \n2     14.929060  \n3     19.637992  \n4      0.664633  \n...         ...  \n9995   2.710367  \n9996  -1.899908  \n9997  23.293103  \n9998   1.410540  \n9999   4.243618  \n\n[10000 rows x 9 columns]",
      "text/html": "<div>\n<style scoped>\n    .dataframe tbody tr th:only-of-type {\n        vertical-align: middle;\n    }\n\n    .dataframe tbody tr th {\n        vertical-align: top;\n    }\n\n    .dataframe thead th {\n        text-align: right;\n    }\n</style>\n<table border=\"1\" class=\"dataframe\">\n  <thead>\n    <tr style=\"text-align: right;\">\n      <th></th>\n      <th>Z0</th>\n      <th>Z1</th>\n      <th>W0</th>\n      <th>W1</th>\n      <th>W2</th>\n      <th>W3</th>\n      <th>W4</th>\n      <th>v0</th>\n      <th>y</th>\n    </tr>\n  </thead>\n  <tbody>\n    <tr>\n      <th>0</th>\n      <td>1.0</td>\n      <td>0.355133</td>\n      <td>0.190482</td>\n      <td>-1.072800</td>\n      <td>1.180365</td>\n      <td>-0.633996</td>\n      <td>2.240428</td>\n      <td>True</td>\n      <td>14.963347</td>\n    </tr>\n    <tr>\n      <th>1</th>\n      <td>0.0</td>\n      <td>0.762140</td>\n      <td>0.169120</td>\n      <td>-0.744933</td>\n      <td>-1.589044</td>\n      <td>-1.308587</td>\n      <td>-1.883595</td>\n      <td>False</td>\n      <td>-11.394299</td>\n    </tr>\n    <tr>\n      <th>2</th>\n      <td>0.0</td>\n      <td>0.685274</td>\n      <td>1.900399</td>\n      <td>-0.497099</td>\n      <td>-0.283240</td>\n      <td>0.182312</td>\n      <td>0.012888</td>\n      <td>True</td>\n      <td>14.929060</td>\n    </tr>\n    <tr>\n      <th>3</th>\n      <td>0.0</td>\n      <td>0.905525</td>\n      <td>0.532450</td>\n      <td>0.058168</td>\n      <td>1.465729</td>\n      <td>-0.187283</td>\n      <td>-0.838909</td>\n      <td>True</td>\n      <td>19.637992</td>\n    </tr>\n    <tr>\n      <th>4</th>\n      <td>0.0</td>\n      <td>0.377785</td>\n      <td>0.521210</td>\n      <td>-1.377270</td>\n      <td>0.378498</td>\n      <td>-0.370849</td>\n      <td>1.478437</td>\n      <td>False</td>\n      <td>0.664633</td>\n    </tr>\n    <tr>\n      <th>...</th>\n      <td>...</td>\n      <td>...</td>\n      <td>...</td>\n      <td>...</td>\n      <td>...</td>\n      <td>...</td>\n      <td>...</td>\n      <td>...</td>\n      <td>...</td>\n    </tr>\n    <tr>\n      <th>9995</th>\n      <td>0.0</td>\n      <td>0.942763</td>\n      <td>0.332513</td>\n      <td>-1.246938</td>\n      <td>-1.024261</td>\n      <td>-0.386127</td>\n      <td>1.239500</td>\n      <td>True</td>\n      <td>2.710367</td>\n    </tr>\n    <tr>\n      <th>9996</th>\n      <td>0.0</td>\n      <td>0.386906</td>\n      <td>0.009536</td>\n      <td>-0.620688</td>\n      <td>0.073553</td>\n      <td>-1.070046</td>\n      <td>-0.380256</td>\n      <td>False</td>\n      <td>-1.899908</td>\n    </tr>\n    <tr>\n      <th>9997</th>\n      <td>0.0</td>\n      <td>0.203533</td>\n      <td>1.295487</td>\n      <td>-0.521316</td>\n      <td>1.774002</td>\n      <td>-0.156980</td>\n      <td>0.198671</td>\n      <td>True</td>\n      <td>23.293103</td>\n    </tr>\n    <tr>\n      <th>9998</th>\n      <td>1.0</td>\n      <td>0.084019</td>\n      <td>-0.170979</td>\n      <td>-0.285938</td>\n      <td>0.670517</td>\n      <td>-1.728015</td>\n      <td>-0.570021</td>\n      <td>False</td>\n      <td>1.410540</td>\n    </tr>\n    <tr>\n      <th>9999</th>\n      <td>0.0</td>\n      <td>0.164763</td>\n      <td>1.580480</td>\n      <td>-1.179568</td>\n      <td>0.261968</td>\n      <td>0.115103</td>\n      <td>-0.020335</td>\n      <td>False</td>\n      <td>4.243618</td>\n    </tr>\n  </tbody>\n</table>\n<p>10000 rows × 9 columns</p>\n</div>"
     },
     "execution_count": 2,
     "metadata": {},
     "output_type": "execute_result"
    }
   ],
   "source": [
    "data['df']"
   ],
   "metadata": {
    "collapsed": false
   }
  },
  {
   "cell_type": "code",
   "execution_count": 3,
   "outputs": [
    {
     "data": {
      "text/plain": "{'df':        Z0        Z1        W0        W1        W2        W3        W4     v0  \\\n 0     1.0  0.355133  0.190482 -1.072800  1.180365 -0.633996  2.240428   True   \n 1     0.0  0.762140  0.169120 -0.744933 -1.589044 -1.308587 -1.883595  False   \n 2     0.0  0.685274  1.900399 -0.497099 -0.283240  0.182312  0.012888   True   \n 3     0.0  0.905525  0.532450  0.058168  1.465729 -0.187283 -0.838909   True   \n 4     0.0  0.377785  0.521210 -1.377270  0.378498 -0.370849  1.478437  False   \n ...   ...       ...       ...       ...       ...       ...       ...    ...   \n 9995  0.0  0.942763  0.332513 -1.246938 -1.024261 -0.386127  1.239500   True   \n 9996  0.0  0.386906  0.009536 -0.620688  0.073553 -1.070046 -0.380256  False   \n 9997  0.0  0.203533  1.295487 -0.521316  1.774002 -0.156980  0.198671   True   \n 9998  1.0  0.084019 -0.170979 -0.285938  0.670517 -1.728015 -0.570021  False   \n 9999  0.0  0.164763  1.580480 -1.179568  0.261968  0.115103 -0.020335  False   \n \n               y  \n 0     14.963347  \n 1    -11.394299  \n 2     14.929060  \n 3     19.637992  \n 4      0.664633  \n ...         ...  \n 9995   2.710367  \n 9996  -1.899908  \n 9997  23.293103  \n 9998   1.410540  \n 9999   4.243618  \n \n [10000 rows x 9 columns],\n 'treatment_name': ['v0'],\n 'outcome_name': 'y',\n 'common_causes_names': ['W0', 'W1', 'W2', 'W3', 'W4'],\n 'instrument_names': ['Z0', 'Z1'],\n 'effect_modifier_names': [],\n 'frontdoor_variables_names': [],\n 'dot_graph': 'digraph {v0->y;W0-> v0; W1-> v0; W2-> v0; W3-> v0; W4-> v0;Z0-> v0; Z1-> v0;W0-> y; W1-> y; W2-> y; W3-> y; W4-> y;}',\n 'gml_graph': 'graph[directed 1node[ id \"y\" label \"y\"]node[ id \"W0\" label \"W0\"] node[ id \"W1\" label \"W1\"] node[ id \"W2\" label \"W2\"] node[ id \"W3\" label \"W3\"] node[ id \"W4\" label \"W4\"]node[ id \"Z0\" label \"Z0\"] node[ id \"Z1\" label \"Z1\"]node[ id \"v0\" label \"v0\"]edge[source \"v0\" target \"y\"]edge[ source \"W0\" target \"v0\"] edge[ source \"W1\" target \"v0\"] edge[ source \"W2\" target \"v0\"] edge[ source \"W3\" target \"v0\"] edge[ source \"W4\" target \"v0\"]edge[ source \"Z0\" target \"v0\"] edge[ source \"Z1\" target \"v0\"]edge[ source \"W0\" target \"y\"] edge[ source \"W1\" target \"y\"] edge[ source \"W2\" target \"y\"] edge[ source \"W3\" target \"y\"] edge[ source \"W4\" target \"y\"]]',\n 'ate': 9.999803843771941}"
     },
     "execution_count": 3,
     "metadata": {},
     "output_type": "execute_result"
    }
   ],
   "source": [
    "data"
   ],
   "metadata": {
    "collapsed": false
   }
  },
  {
   "cell_type": "code",
   "execution_count": 4,
   "outputs": [],
   "source": [
    "# I. Create a causal model from the data and given graph.\n",
    "model = CausalModel(\n",
    "    data=data[\"df\"],\n",
    "    treatment=data[\"treatment_name\"],\n",
    "    outcome=data[\"outcome_name\"],\n",
    "    graph=data[\"gml_graph\"])"
   ],
   "metadata": {
    "collapsed": false
   }
  },
  {
   "cell_type": "code",
   "execution_count": 8,
   "outputs": [
    {
     "data": {
      "text/plain": "<dowhy.causal_identifier.identified_estimand.IdentifiedEstimand at 0x2674f1fac10>"
     },
     "execution_count": 8,
     "metadata": {},
     "output_type": "execute_result"
    }
   ],
   "source": [
    "# II. Identify causal effect and return target estimands\n",
    "identified_estimand = model.identify_effect()\n",
    "identified_estimand"
   ],
   "metadata": {
    "collapsed": false
   }
  },
  {
   "cell_type": "code",
   "execution_count": 9,
   "outputs": [
    {
     "data": {
      "text/plain": "<dowhy.causal_estimator.CausalEstimate at 0x2674f5cb700>"
     },
     "execution_count": 9,
     "metadata": {},
     "output_type": "execute_result"
    }
   ],
   "source": [
    "# III. Estimate the target estimand using a statistical method.\n",
    "estimate = model.estimate_effect(identified_estimand, method_name=\"backdoor.propensity_score_matching\")\n",
    "estimate"
   ],
   "metadata": {
    "collapsed": false
   }
  },
  {
   "cell_type": "code",
   "execution_count": 10,
   "outputs": [
    {
     "data": {
      "text/plain": "<dowhy.causal_refuter.CausalRefutation at 0x2674f5e1ac0>"
     },
     "execution_count": 10,
     "metadata": {},
     "output_type": "execute_result"
    }
   ],
   "source": [
    "# IV. Refute the obtained estimate using multiple robustness checks.\n",
    "refute_results = model.refute_estimate(identified_estimand, estimate, method_name=\"random_common_cause\")\n",
    "refute_results"
   ],
   "metadata": {
    "collapsed": false
   }
  },
  {
   "cell_type": "code",
   "execution_count": null,
   "outputs": [],
   "source": [],
   "metadata": {
    "collapsed": false
   }
  }
 ],
 "metadata": {
  "kernelspec": {
   "display_name": "Python 3",
   "language": "python",
   "name": "python3"
  },
  "language_info": {
   "codemirror_mode": {
    "name": "ipython",
    "version": 2
   },
   "file_extension": ".py",
   "mimetype": "text/x-python",
   "name": "python",
   "nbconvert_exporter": "python",
   "pygments_lexer": "ipython2",
   "version": "2.7.6"
  }
 },
 "nbformat": 4,
 "nbformat_minor": 0
}
