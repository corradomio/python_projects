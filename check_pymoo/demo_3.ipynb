{
 "cells": [
  {
   "cell_type": "code",
   "id": "initial_id",
   "metadata": {
    "collapsed": true,
    "ExecuteTime": {
     "end_time": "2024-09-22T06:01:59.156812Z",
     "start_time": "2024-09-22T06:01:58.013666Z"
    }
   },
   "source": [
    "import numpy as np\n",
    "\n",
    "from pymoo.algorithms.soo.nonconvex.ga import GA\n",
    "from pymoo.core.problem import Problem\n",
    "from pymoo.operators.crossover.sbx import SBX\n",
    "from pymoo.operators.mutation.pm import PM\n",
    "from pymoo.operators.repair.rounding import RoundingRepair\n",
    "from pymoo.operators.sampling.rnd import IntegerRandomSampling\n",
    "from pymoo.optimize import minimize\n",
    "\n",
    "\n",
    "class MyProblem(Problem):\n",
    "\n",
    "    def __init__(self):\n",
    "        super().__init__(n_var=2, n_obj=1, n_ieq_constr=1, xl=0, xu=10, vtype=int)\n",
    "\n",
    "    def _evaluate(self, x, out, *args, **kwargs):\n",
    "        out[\"F\"] = - np.min(x * [3, 1], axis=1)\n",
    "        out[\"G\"] = x[:, 0] + x[:, 1] - 10\n",
    "\n",
    "\n",
    "problem = MyProblem()\n",
    "\n",
    "method = GA(pop_size=20,\n",
    "            sampling=IntegerRandomSampling(),\n",
    "            crossover=SBX(prob=1.0, eta=3.0, vtype=float, repair=RoundingRepair()),\n",
    "            mutation=PM(prob=1.0, eta=3.0, vtype=float, repair=RoundingRepair()),\n",
    "            eliminate_duplicates=True,\n",
    "            )\n",
    "\n",
    "res = minimize(problem,\n",
    "               method,\n",
    "               termination=('n_gen', 40),\n",
    "               seed=1,\n",
    "               save_history=True\n",
    "               )\n",
    "\n",
    "print(\"Best solution found: %s\" % res.X)\n",
    "print(\"Function value: %s\" % res.F)\n",
    "print(\"Constraint violation: %s\" % res.CV)"
   ],
   "outputs": [
    {
     "name": "stdout",
     "output_type": "stream",
     "text": [
      "Best solution found: [3 7]\n",
      "Function value: [-7.]\n",
      "Constraint violation: [0.]\n"
     ]
    }
   ],
   "execution_count": 1
  },
  {
   "metadata": {
    "ExecuteTime": {
     "end_time": "2024-09-22T06:02:14.374251Z",
     "start_time": "2024-09-22T06:02:13.486505Z"
    }
   },
   "cell_type": "code",
   "source": [
    "import matplotlib.pyplot as plt\n",
    "from pymoo.util import plotting\n",
    "\n",
    "_X = np.row_stack([a.pop.get(\"X\") for a in res.history])\n",
    "feasible = np.row_stack([a.pop.get(\"feasible\") for a in res.history])[:, 0]\n",
    "\n",
    "plotting.plot(_X[feasible], _X[np.logical_not(feasible)], res.X[None,:]\n",
    "              , labels=[\"Feasible\", \"Infeasible\", \"Best\"])"
   ],
   "id": "a57eadaae53fb9ec",
   "outputs": [
    {
     "name": "stderr",
     "output_type": "stream",
     "text": [
      "C:\\Users\\Corrado Mio\\AppData\\Local\\Temp\\ipykernel_16664\\4051853989.py:4: DeprecationWarning: `row_stack` alias is deprecated. Use `np.vstack` directly.\n",
      "  _X = np.row_stack([a.pop.get(\"X\") for a in res.history])\n",
      "C:\\Users\\Corrado Mio\\AppData\\Local\\Temp\\ipykernel_16664\\4051853989.py:5: DeprecationWarning: `row_stack` alias is deprecated. Use `np.vstack` directly.\n",
      "  feasible = np.row_stack([a.pop.get(\"feasible\") for a in res.history])[:, 0]\n"
     ]
    },
    {
     "data": {
      "text/plain": [
       "<Figure size 640x480 with 1 Axes>"
      ],
      "image/png": "[encoded data removed]"
     },
     "metadata": {},
     "output_type": "display_data"
    }
   ],
   "execution_count": 2
  }
 ],
 "metadata": {
  "kernelspec": {
   "display_name": "Python 3",
   "language": "python",
   "name": "python3"
  },
  "language_info": {
   "codemirror_mode": {
    "name": "ipython",
    "version": 2
   },
   "file_extension": ".py",
   "mimetype": "text/x-python",
   "name": "python",
   "nbconvert_exporter": "python",
   "pygments_lexer": "ipython2",
   "version": "2.7.6"
  }
 },
 "nbformat": 4,
 "nbformat_minor": 5
}
