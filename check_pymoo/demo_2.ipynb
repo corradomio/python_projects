{
 "cells": [
  {
   "cell_type": "code",
   "id": "initial_id",
   "metadata": {
    "collapsed": true,
    "ExecuteTime": {
     "end_time": "2024-09-22T05:50:51.975439Z",
     "start_time": "2024-09-22T05:50:51.966910Z"
    }
   },
   "source": [
    "import numpy as np\n",
    "from pymoo.core.problem import ElementwiseProblem\n",
    "\n",
    "class SubsetProblem(ElementwiseProblem):\n",
    "    def __init__(self,\n",
    "                 L,\n",
    "                 n_max\n",
    "                 ):\n",
    "        super().__init__(n_var=len(L), n_obj=2, n_ieq_constr=1)\n",
    "        self.L = L\n",
    "        self.n_max = n_max\n",
    "\n",
    "    def _evaluate(self, x, out, *args, **kwargs):\n",
    "        out[\"F\"] = [np.sum(self.L[x]), np.sum(x)]\n",
    "        out[\"G\"] = (self.n_max - np.sum(x)) ** 2\n",
    "\n",
    "\n",
    "# create the actual problem to be solved\n",
    "np.random.seed(1)\n",
    "L = np.array([np.random.randint(100) for _ in range(100)])\n",
    "n_max = 10\n",
    "problem = SubsetProblem(L, n_max)"
   ],
   "outputs": [],
   "execution_count": 5
  },
  {
   "metadata": {
    "ExecuteTime": {
     "end_time": "2024-09-22T05:51:01.467096Z",
     "start_time": "2024-09-22T05:51:01.456020Z"
    }
   },
   "cell_type": "code",
   "source": [
    "from pymoo.core.crossover import Crossover\n",
    "from pymoo.core.mutation import Mutation\n",
    "from pymoo.core.sampling import Sampling\n",
    "\n",
    "\n",
    "class MySampling(Sampling):\n",
    "\n",
    "    def _do(self, problem, n_samples, **kwargs):\n",
    "        X = np.full((n_samples, problem.n_var), False, dtype=bool)\n",
    "\n",
    "        for k in range(n_samples):\n",
    "            I = np.random.permutation(problem.n_var)[:problem.n_max]\n",
    "            X[k, I] = True\n",
    "\n",
    "        return X\n",
    "\n",
    "\n",
    "class BinaryCrossover(Crossover):\n",
    "    def __init__(self):\n",
    "        super().__init__(2, 1)\n",
    "\n",
    "    def _do(self, problem, X, **kwargs):\n",
    "        n_parents, n_matings, n_var = X.shape\n",
    "\n",
    "        _X = np.full((self.n_offsprings, n_matings, problem.n_var), False)\n",
    "\n",
    "        for k in range(n_matings):\n",
    "            p1, p2 = X[0, k], X[1, k]\n",
    "\n",
    "            both_are_true = np.logical_and(p1, p2)\n",
    "            _X[0, k, both_are_true] = True\n",
    "\n",
    "            n_remaining = problem.n_max - np.sum(both_are_true)\n",
    "\n",
    "            I = np.where(np.logical_xor(p1, p2))[0]\n",
    "\n",
    "            S = I[np.random.permutation(len(I))][:n_remaining]\n",
    "            _X[0, k, S] = True\n",
    "\n",
    "        return _X\n",
    "\n",
    "\n",
    "class MyMutation(Mutation):\n",
    "    def _do(self, problem, X, **kwargs):\n",
    "        for i in range(X.shape[0]):\n",
    "            X[i, :] = X[i, :]\n",
    "            is_false = np.where(np.logical_not(X[i, :]))[0]\n",
    "            is_true = np.where(X[i, :])[0]\n",
    "            X[i, np.random.choice(is_false)] = True\n",
    "            X[i, np.random.choice(is_true)] = False\n",
    "\n",
    "        return X"
   ],
   "id": "73d53c41dd365487",
   "outputs": [],
   "execution_count": 6
  },
  {
   "metadata": {
    "ExecuteTime": {
     "end_time": "2024-09-22T05:51:07.840579Z",
     "start_time": "2024-09-22T05:51:06.633490Z"
    }
   },
   "cell_type": "code",
   "source": [
    "from pymoo.algorithms.soo.nonconvex.ga import GA\n",
    "from pymoo.optimize import minimize\n",
    "\n",
    "algorithm = GA(\n",
    "    pop_size=100,\n",
    "    sampling=MySampling(),\n",
    "    crossover=BinaryCrossover(),\n",
    "    mutation=MyMutation(),\n",
    "    eliminate_duplicates=True)\n",
    "\n",
    "res = minimize(problem,\n",
    "               algorithm,\n",
    "               ('n_gen', 60),\n",
    "               seed=1,\n",
    "               verbose=True)\n",
    "\n",
    "print(\"Function value: %s\" % res.F[0])\n",
    "print(\"Subset:\", np.where(res.X)[0])"
   ],
   "id": "572c0cf1c3632fa9",
   "outputs": [
    {
     "name": "stdout",
     "output_type": "stream",
     "text": [
      "=================================================================================\n",
      "n_gen  |  n_eval  |     cv_min    |     cv_avg    |     f_avg     |     f_min    \n",
      "=================================================================================\n",
      "     1 |      100 |  0.000000E+00 |  0.000000E+00 |  4.439400E+02 |  2.580000E+02\n"
     ]
    },
    {
     "ename": "ValueError",
     "evalue": "The truth value of an array with more than one element is ambiguous. Use a.any() or a.all()",
     "output_type": "error",
     "traceback": [
      "\u001B[1;31m---------------------------------------------------------------------------\u001B[0m",
      "\u001B[1;31mValueError\u001B[0m                                Traceback (most recent call last)",
      "Cell \u001B[1;32mIn[7], line 11\u001B[0m\n\u001B[0;32m      2\u001B[0m \u001B[38;5;28;01mfrom\u001B[39;00m \u001B[38;5;21;01mpymoo\u001B[39;00m\u001B[38;5;21;01m.\u001B[39;00m\u001B[38;5;21;01moptimize\u001B[39;00m \u001B[38;5;28;01mimport\u001B[39;00m minimize\n\u001B[0;32m      4\u001B[0m algorithm \u001B[38;5;241m=\u001B[39m GA(\n\u001B[0;32m      5\u001B[0m     pop_size\u001B[38;5;241m=\u001B[39m\u001B[38;5;241m100\u001B[39m,\n\u001B[0;32m      6\u001B[0m     sampling\u001B[38;5;241m=\u001B[39mMySampling(),\n\u001B[0;32m      7\u001B[0m     crossover\u001B[38;5;241m=\u001B[39mBinaryCrossover(),\n\u001B[0;32m      8\u001B[0m     mutation\u001B[38;5;241m=\u001B[39mMyMutation(),\n\u001B[0;32m      9\u001B[0m     eliminate_duplicates\u001B[38;5;241m=\u001B[39m\u001B[38;5;28;01mTrue\u001B[39;00m)\n\u001B[1;32m---> 11\u001B[0m res \u001B[38;5;241m=\u001B[39m minimize(problem,\n\u001B[0;32m     12\u001B[0m                algorithm,\n\u001B[0;32m     13\u001B[0m                (\u001B[38;5;124m'\u001B[39m\u001B[38;5;124mn_gen\u001B[39m\u001B[38;5;124m'\u001B[39m, \u001B[38;5;241m60\u001B[39m),\n\u001B[0;32m     14\u001B[0m                seed\u001B[38;5;241m=\u001B[39m\u001B[38;5;241m1\u001B[39m,\n\u001B[0;32m     15\u001B[0m                verbose\u001B[38;5;241m=\u001B[39m\u001B[38;5;28;01mTrue\u001B[39;00m)\n\u001B[0;32m     17\u001B[0m \u001B[38;5;28mprint\u001B[39m(\u001B[38;5;124m\"\u001B[39m\u001B[38;5;124mFunction value: \u001B[39m\u001B[38;5;132;01m%s\u001B[39;00m\u001B[38;5;124m\"\u001B[39m \u001B[38;5;241m%\u001B[39m res\u001B[38;5;241m.\u001B[39mF[\u001B[38;5;241m0\u001B[39m])\n\u001B[0;32m     18\u001B[0m \u001B[38;5;28mprint\u001B[39m(\u001B[38;5;124m\"\u001B[39m\u001B[38;5;124mSubset:\u001B[39m\u001B[38;5;124m\"\u001B[39m, np\u001B[38;5;241m.\u001B[39mwhere(res\u001B[38;5;241m.\u001B[39mX)[\u001B[38;5;241m0\u001B[39m])\n",
      "File \u001B[1;32mD:\\Python\\envs\\optim\\Lib\\site-packages\\pymoo\\optimize.py:67\u001B[0m, in \u001B[0;36mminimize\u001B[1;34m(problem, algorithm, termination, copy_algorithm, copy_termination, **kwargs)\u001B[0m\n\u001B[0;32m     64\u001B[0m     algorithm\u001B[38;5;241m.\u001B[39msetup(problem, \u001B[38;5;241m*\u001B[39m\u001B[38;5;241m*\u001B[39mkwargs)\n\u001B[0;32m     66\u001B[0m \u001B[38;5;66;03m# actually execute the algorithm\u001B[39;00m\n\u001B[1;32m---> 67\u001B[0m res \u001B[38;5;241m=\u001B[39m algorithm\u001B[38;5;241m.\u001B[39mrun()\n\u001B[0;32m     69\u001B[0m \u001B[38;5;66;03m# store the deep copied algorithm in the result object\u001B[39;00m\n\u001B[0;32m     70\u001B[0m res\u001B[38;5;241m.\u001B[39malgorithm \u001B[38;5;241m=\u001B[39m algorithm\n",
      "File \u001B[1;32mD:\\Python\\envs\\optim\\Lib\\site-packages\\pymoo\\core\\algorithm.py:138\u001B[0m, in \u001B[0;36mAlgorithm.run\u001B[1;34m(self)\u001B[0m\n\u001B[0;32m    136\u001B[0m \u001B[38;5;28;01mdef\u001B[39;00m \u001B[38;5;21mrun\u001B[39m(\u001B[38;5;28mself\u001B[39m):\n\u001B[0;32m    137\u001B[0m     \u001B[38;5;28;01mwhile\u001B[39;00m \u001B[38;5;28mself\u001B[39m\u001B[38;5;241m.\u001B[39mhas_next():\n\u001B[1;32m--> 138\u001B[0m         \u001B[38;5;28mself\u001B[39m\u001B[38;5;241m.\u001B[39mnext()\n\u001B[0;32m    139\u001B[0m     \u001B[38;5;28;01mreturn\u001B[39;00m \u001B[38;5;28mself\u001B[39m\u001B[38;5;241m.\u001B[39mresult()\n",
      "File \u001B[1;32mD:\\Python\\envs\\optim\\Lib\\site-packages\\pymoo\\core\\algorithm.py:154\u001B[0m, in \u001B[0;36mAlgorithm.next\u001B[1;34m(self)\u001B[0m\n\u001B[0;32m    151\u001B[0m \u001B[38;5;28;01mdef\u001B[39;00m \u001B[38;5;21mnext\u001B[39m(\u001B[38;5;28mself\u001B[39m):\n\u001B[0;32m    152\u001B[0m \n\u001B[0;32m    153\u001B[0m     \u001B[38;5;66;03m# get the infill solutions\u001B[39;00m\n\u001B[1;32m--> 154\u001B[0m     infills \u001B[38;5;241m=\u001B[39m \u001B[38;5;28mself\u001B[39m\u001B[38;5;241m.\u001B[39minfill()\n\u001B[0;32m    156\u001B[0m     \u001B[38;5;66;03m# call the advance with them after evaluation\u001B[39;00m\n\u001B[0;32m    157\u001B[0m     \u001B[38;5;28;01mif\u001B[39;00m infills \u001B[38;5;129;01mis\u001B[39;00m \u001B[38;5;129;01mnot\u001B[39;00m \u001B[38;5;28;01mNone\u001B[39;00m:\n",
      "File \u001B[1;32mD:\\Python\\envs\\optim\\Lib\\site-packages\\pymoo\\core\\algorithm.py:190\u001B[0m, in \u001B[0;36mAlgorithm.infill\u001B[1;34m(self)\u001B[0m\n\u001B[0;32m    186\u001B[0m     infills \u001B[38;5;241m=\u001B[39m \u001B[38;5;28mself\u001B[39m\u001B[38;5;241m.\u001B[39m_initialize_infill()\n\u001B[0;32m    188\u001B[0m \u001B[38;5;28;01melse\u001B[39;00m:\n\u001B[0;32m    189\u001B[0m     \u001B[38;5;66;03m# request the infill solutions if the algorithm has implemented it\u001B[39;00m\n\u001B[1;32m--> 190\u001B[0m     infills \u001B[38;5;241m=\u001B[39m \u001B[38;5;28mself\u001B[39m\u001B[38;5;241m.\u001B[39m_infill()\n\u001B[0;32m    192\u001B[0m \u001B[38;5;66;03m# set the current generation to the offsprings\u001B[39;00m\n\u001B[0;32m    193\u001B[0m \u001B[38;5;28;01mif\u001B[39;00m infills \u001B[38;5;129;01mis\u001B[39;00m \u001B[38;5;129;01mnot\u001B[39;00m \u001B[38;5;28;01mNone\u001B[39;00m:\n",
      "File \u001B[1;32mD:\\Python\\envs\\optim\\Lib\\site-packages\\pymoo\\algorithms\\base\\genetic.py:85\u001B[0m, in \u001B[0;36mGeneticAlgorithm._infill\u001B[1;34m(self)\u001B[0m\n\u001B[0;32m     82\u001B[0m \u001B[38;5;28;01mdef\u001B[39;00m \u001B[38;5;21m_infill\u001B[39m(\u001B[38;5;28mself\u001B[39m):\n\u001B[0;32m     83\u001B[0m \n\u001B[0;32m     84\u001B[0m     \u001B[38;5;66;03m# do the mating using the current population\u001B[39;00m\n\u001B[1;32m---> 85\u001B[0m     off \u001B[38;5;241m=\u001B[39m \u001B[38;5;28mself\u001B[39m\u001B[38;5;241m.\u001B[39mmating\u001B[38;5;241m.\u001B[39mdo(\u001B[38;5;28mself\u001B[39m\u001B[38;5;241m.\u001B[39mproblem, \u001B[38;5;28mself\u001B[39m\u001B[38;5;241m.\u001B[39mpop, \u001B[38;5;28mself\u001B[39m\u001B[38;5;241m.\u001B[39mn_offsprings, algorithm\u001B[38;5;241m=\u001B[39m\u001B[38;5;28mself\u001B[39m)\n\u001B[0;32m     87\u001B[0m     \u001B[38;5;66;03m# if the mating could not generate any new offspring (duplicate elimination might make that happen)\u001B[39;00m\n\u001B[0;32m     88\u001B[0m     \u001B[38;5;28;01mif\u001B[39;00m \u001B[38;5;28mlen\u001B[39m(off) \u001B[38;5;241m==\u001B[39m \u001B[38;5;241m0\u001B[39m:\n",
      "File \u001B[1;32mD:\\Python\\envs\\optim\\Lib\\site-packages\\pymoo\\core\\infill.py:38\u001B[0m, in \u001B[0;36mInfillCriterion.do\u001B[1;34m(self, problem, pop, n_offsprings, **kwargs)\u001B[0m\n\u001B[0;32m     35\u001B[0m n_remaining \u001B[38;5;241m=\u001B[39m n_offsprings \u001B[38;5;241m-\u001B[39m \u001B[38;5;28mlen\u001B[39m(off)\n\u001B[0;32m     37\u001B[0m \u001B[38;5;66;03m# do the mating\u001B[39;00m\n\u001B[1;32m---> 38\u001B[0m _off \u001B[38;5;241m=\u001B[39m \u001B[38;5;28mself\u001B[39m\u001B[38;5;241m.\u001B[39m_do(problem, pop, n_remaining, \u001B[38;5;241m*\u001B[39m\u001B[38;5;241m*\u001B[39mkwargs)\n\u001B[0;32m     40\u001B[0m \u001B[38;5;66;03m# repair the individuals if necessary - disabled if repair is NoRepair\u001B[39;00m\n\u001B[0;32m     41\u001B[0m _off \u001B[38;5;241m=\u001B[39m \u001B[38;5;28mself\u001B[39m\u001B[38;5;241m.\u001B[39mrepair(problem, _off, \u001B[38;5;241m*\u001B[39m\u001B[38;5;241m*\u001B[39mkwargs)\n",
      "File \u001B[1;32mD:\\Python\\envs\\optim\\Lib\\site-packages\\pymoo\\core\\mating.py:28\u001B[0m, in \u001B[0;36mMating._do\u001B[1;34m(self, problem, pop, n_offsprings, parents, **kwargs)\u001B[0m\n\u001B[0;32m     24\u001B[0m \u001B[38;5;66;03m# if the parents for the mating are not provided directly - usually selection will be used\u001B[39;00m\n\u001B[0;32m     25\u001B[0m \u001B[38;5;28;01mif\u001B[39;00m parents \u001B[38;5;129;01mis\u001B[39;00m \u001B[38;5;28;01mNone\u001B[39;00m:\n\u001B[0;32m     26\u001B[0m \n\u001B[0;32m     27\u001B[0m     \u001B[38;5;66;03m# select the parents for the mating - just an index array\u001B[39;00m\n\u001B[1;32m---> 28\u001B[0m     parents \u001B[38;5;241m=\u001B[39m \u001B[38;5;28mself\u001B[39m\u001B[38;5;241m.\u001B[39mselection(problem, pop, n_matings, n_parents\u001B[38;5;241m=\u001B[39m\u001B[38;5;28mself\u001B[39m\u001B[38;5;241m.\u001B[39mcrossover\u001B[38;5;241m.\u001B[39mn_parents, \u001B[38;5;241m*\u001B[39m\u001B[38;5;241m*\u001B[39mkwargs)\n\u001B[0;32m     30\u001B[0m \u001B[38;5;66;03m# do the crossover using the parents index and the population - additional data provided if necessary\u001B[39;00m\n\u001B[0;32m     31\u001B[0m off \u001B[38;5;241m=\u001B[39m \u001B[38;5;28mself\u001B[39m\u001B[38;5;241m.\u001B[39mcrossover(problem, parents, \u001B[38;5;241m*\u001B[39m\u001B[38;5;241m*\u001B[39mkwargs)\n",
      "File \u001B[1;32mD:\\Python\\envs\\optim\\Lib\\site-packages\\pymoo\\core\\operator.py:27\u001B[0m, in \u001B[0;36mOperator.__call__\u001B[1;34m(self, problem, elem, to_numpy, *args, **kwargs)\u001B[0m\n\u001B[0;32m     26\u001B[0m \u001B[38;5;28;01mdef\u001B[39;00m \u001B[38;5;21m__call__\u001B[39m(\u001B[38;5;28mself\u001B[39m, problem, elem, \u001B[38;5;241m*\u001B[39margs, to_numpy\u001B[38;5;241m=\u001B[39m\u001B[38;5;28;01mFalse\u001B[39;00m, \u001B[38;5;241m*\u001B[39m\u001B[38;5;241m*\u001B[39mkwargs):\n\u001B[1;32m---> 27\u001B[0m     out \u001B[38;5;241m=\u001B[39m \u001B[38;5;28mself\u001B[39m\u001B[38;5;241m.\u001B[39mdo(problem, elem, \u001B[38;5;241m*\u001B[39margs, \u001B[38;5;241m*\u001B[39m\u001B[38;5;241m*\u001B[39mkwargs)\n\u001B[0;32m     29\u001B[0m     \u001B[38;5;28;01mif\u001B[39;00m \u001B[38;5;28mself\u001B[39m\u001B[38;5;241m.\u001B[39mvtype \u001B[38;5;129;01mis\u001B[39;00m \u001B[38;5;129;01mnot\u001B[39;00m \u001B[38;5;28;01mNone\u001B[39;00m:\n\u001B[0;32m     30\u001B[0m         \u001B[38;5;28;01mfor\u001B[39;00m ind \u001B[38;5;129;01min\u001B[39;00m out:\n",
      "File \u001B[1;32mD:\\Python\\envs\\optim\\Lib\\site-packages\\pymoo\\core\\selection.py:49\u001B[0m, in \u001B[0;36mSelection.do\u001B[1;34m(self, problem, pop, n_select, n_parents, to_pop, **kwargs)\u001B[0m\n\u001B[0;32m     17\u001B[0m \u001B[38;5;28;01mdef\u001B[39;00m \u001B[38;5;21mdo\u001B[39m(\u001B[38;5;28mself\u001B[39m, problem, pop, n_select, n_parents, to_pop\u001B[38;5;241m=\u001B[39m\u001B[38;5;28;01mTrue\u001B[39;00m, \u001B[38;5;241m*\u001B[39m\u001B[38;5;241m*\u001B[39mkwargs):\n\u001B[0;32m     18\u001B[0m \u001B[38;5;250m    \u001B[39m\u001B[38;5;124;03m\"\"\"\u001B[39;00m\n\u001B[0;32m     19\u001B[0m \u001B[38;5;124;03m    Choose from the population new individuals to be selected.\u001B[39;00m\n\u001B[0;32m     20\u001B[0m \n\u001B[1;32m   (...)\u001B[0m\n\u001B[0;32m     46\u001B[0m \n\u001B[0;32m     47\u001B[0m \u001B[38;5;124;03m    \"\"\"\u001B[39;00m\n\u001B[1;32m---> 49\u001B[0m     ret \u001B[38;5;241m=\u001B[39m \u001B[38;5;28mself\u001B[39m\u001B[38;5;241m.\u001B[39m_do(problem, pop, n_select, n_parents, \u001B[38;5;241m*\u001B[39m\u001B[38;5;241m*\u001B[39mkwargs)\n\u001B[0;32m     51\u001B[0m     \u001B[38;5;66;03m# if some selections return indices they are used to create the individual list\u001B[39;00m\n\u001B[0;32m     52\u001B[0m     \u001B[38;5;28;01mif\u001B[39;00m to_pop \u001B[38;5;129;01mand\u001B[39;00m \u001B[38;5;28misinstance\u001B[39m(ret, np\u001B[38;5;241m.\u001B[39mndarray) \u001B[38;5;129;01mand\u001B[39;00m np\u001B[38;5;241m.\u001B[39missubdtype(ret\u001B[38;5;241m.\u001B[39mdtype, np\u001B[38;5;241m.\u001B[39minteger):\n",
      "File \u001B[1;32mD:\\Python\\envs\\optim\\Lib\\site-packages\\pymoo\\operators\\selection\\tournament.py:49\u001B[0m, in \u001B[0;36mTournamentSelection._do\u001B[1;34m(self, _, pop, n_select, n_parents, **kwargs)\u001B[0m\n\u001B[0;32m     46\u001B[0m P \u001B[38;5;241m=\u001B[39m np\u001B[38;5;241m.\u001B[39mreshape(P, (n_select \u001B[38;5;241m*\u001B[39m n_parents, \u001B[38;5;28mself\u001B[39m\u001B[38;5;241m.\u001B[39mpressure))\n\u001B[0;32m     48\u001B[0m \u001B[38;5;66;03m# compare using tournament function\u001B[39;00m\n\u001B[1;32m---> 49\u001B[0m S \u001B[38;5;241m=\u001B[39m \u001B[38;5;28mself\u001B[39m\u001B[38;5;241m.\u001B[39mfunc_comp(pop, P, \u001B[38;5;241m*\u001B[39m\u001B[38;5;241m*\u001B[39mkwargs)\n\u001B[0;32m     51\u001B[0m \u001B[38;5;28;01mreturn\u001B[39;00m np\u001B[38;5;241m.\u001B[39mreshape(S, (n_select, n_parents))\n",
      "File \u001B[1;32mD:\\Python\\envs\\optim\\Lib\\site-packages\\pymoo\\algorithms\\soo\\nonconvex\\ga.py:51\u001B[0m, in \u001B[0;36mcomp_by_cv_and_fitness\u001B[1;34m(pop, P, **kwargs)\u001B[0m\n\u001B[0;32m     47\u001B[0m         S[i] \u001B[38;5;241m=\u001B[39m compare(a, pop[a]\u001B[38;5;241m.\u001B[39mCV, b, pop[b]\u001B[38;5;241m.\u001B[39mCV, method\u001B[38;5;241m=\u001B[39m\u001B[38;5;124m'\u001B[39m\u001B[38;5;124msmaller_is_better\u001B[39m\u001B[38;5;124m'\u001B[39m, return_random_if_equal\u001B[38;5;241m=\u001B[39m\u001B[38;5;28;01mTrue\u001B[39;00m)\n\u001B[0;32m     49\u001B[0m     \u001B[38;5;66;03m# both solutions are feasible just set random\u001B[39;00m\n\u001B[0;32m     50\u001B[0m     \u001B[38;5;28;01melse\u001B[39;00m:\n\u001B[1;32m---> 51\u001B[0m         S[i] \u001B[38;5;241m=\u001B[39m compare(a, pop[a]\u001B[38;5;241m.\u001B[39mF, b, pop[b]\u001B[38;5;241m.\u001B[39mF, method\u001B[38;5;241m=\u001B[39m\u001B[38;5;124m'\u001B[39m\u001B[38;5;124msmaller_is_better\u001B[39m\u001B[38;5;124m'\u001B[39m, return_random_if_equal\u001B[38;5;241m=\u001B[39m\u001B[38;5;28;01mTrue\u001B[39;00m)\n\u001B[0;32m     53\u001B[0m \u001B[38;5;28;01mreturn\u001B[39;00m S[:, \u001B[38;5;28;01mNone\u001B[39;00m]\u001B[38;5;241m.\u001B[39mastype(\u001B[38;5;28mint\u001B[39m)\n",
      "File \u001B[1;32mD:\\Python\\envs\\optim\\Lib\\site-packages\\pymoo\\operators\\selection\\tournament.py:66\u001B[0m, in \u001B[0;36mcompare\u001B[1;34m(a, a_val, b, b_val, method, return_random_if_equal)\u001B[0m\n\u001B[0;32m     64\u001B[0m             \u001B[38;5;28;01mreturn\u001B[39;00m \u001B[38;5;28;01mNone\u001B[39;00m\n\u001B[0;32m     65\u001B[0m \u001B[38;5;28;01melif\u001B[39;00m method \u001B[38;5;241m==\u001B[39m \u001B[38;5;124m'\u001B[39m\u001B[38;5;124msmaller_is_better\u001B[39m\u001B[38;5;124m'\u001B[39m:\n\u001B[1;32m---> 66\u001B[0m     \u001B[38;5;28;01mif\u001B[39;00m a_val \u001B[38;5;241m<\u001B[39m b_val:\n\u001B[0;32m     67\u001B[0m         \u001B[38;5;28;01mreturn\u001B[39;00m a\n\u001B[0;32m     68\u001B[0m     \u001B[38;5;28;01melif\u001B[39;00m a_val \u001B[38;5;241m>\u001B[39m b_val:\n",
      "\u001B[1;31mValueError\u001B[0m: The truth value of an array with more than one element is ambiguous. Use a.any() or a.all()"
     ]
    }
   ],
   "execution_count": 7
  }
 ],
 "metadata": {
  "kernelspec": {
   "display_name": "Python 3",
   "language": "python",
   "name": "python3"
  },
  "language_info": {
   "codemirror_mode": {
    "name": "ipython",
    "version": 2
   },
   "file_extension": ".py",
   "mimetype": "text/x-python",
   "name": "python",
   "nbconvert_exporter": "python",
   "pygments_lexer": "ipython2",
   "version": "2.7.6"
  }
 },
 "nbformat": 4,
 "nbformat_minor": 5
}
