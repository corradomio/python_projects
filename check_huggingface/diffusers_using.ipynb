{
 "cells": [
  {
   "cell_type": "code",
   "execution_count": 1,
   "outputs": [
    {
     "name": "stderr",
     "output_type": "stream",
     "text": [
      "vae\\diffusion_pytorch_model.safetensors not found\n",
      "`text_config_dict` is provided which will be used to initialize `CLIPTextConfig`. The value `text_config[\"id2label\"]` will be overriden.\n"
     ]
    }
   ],
   "source": [
    "from diffusers import DiffusionPipeline\n",
    "\n",
    "repo_id = \"runwayml/stable-diffusion-v1-5\"\n",
    "pipe = DiffusionPipeline.from_pretrained(repo_id)"
   ],
   "metadata": {
    "collapsed": false,
    "ExecuteTime": {
     "end_time": "2023-06-02T00:08:17.527973900Z",
     "start_time": "2023-06-02T00:08:03.291Z"
    }
   }
  },
  {
   "cell_type": "code",
   "execution_count": 2,
   "outputs": [
    {
     "name": "stderr",
     "output_type": "stream",
     "text": [
      "vae\\diffusion_pytorch_model.safetensors not found\n",
      "`text_config_dict` is provided which will be used to initialize `CLIPTextConfig`. The value `text_config[\"id2label\"]` will be overriden.\n"
     ]
    }
   ],
   "source": [
    "from diffusers import StableDiffusionImg2ImgPipeline\n",
    "\n",
    "repo_id = \"runwayml/stable-diffusion-v1-5\"\n",
    "pipe = StableDiffusionImg2ImgPipeline.from_pretrained(repo_id)"
   ],
   "metadata": {
    "collapsed": false,
    "ExecuteTime": {
     "end_time": "2023-06-02T00:08:22.752773300Z",
     "start_time": "2023-06-02T00:08:17.528976Z"
    }
   }
  },
  {
   "cell_type": "code",
   "execution_count": 3,
   "outputs": [
    {
     "name": "stdout",
     "output_type": "stream",
     "text": [
      "Updated Git hooks.\n",
      "Git LFS initialized.\n"
     ]
    },
    {
     "name": "stderr",
     "output_type": "stream",
     "text": [
      "Cloning into 'stable-diffusion-v1-5'...\n",
      "Filtering content:  16% (2/12)\n",
      "Filtering content:  16% (2/12), 2.26 GiB | 92.78 MiB/s\n",
      "Filtering content:  25% (3/12), 2.26 GiB | 92.78 MiB/s\n",
      "Filtering content:  25% (3/12), 2.72 GiB | 3.85 MiB/s \n",
      "Filtering content:  33% (4/12), 2.72 GiB | 3.85 MiB/s\n",
      "Filtering content:  33% (4/12), 3.18 GiB | 4.84 MiB/s\n",
      "Filtering content:  41% (5/12), 3.18 GiB | 4.84 MiB/s\n",
      "Filtering content:  41% (5/12), 3.49 GiB | 3.73 MiB/s\n",
      "Filtering content:  50% (6/12), 3.49 GiB | 3.73 MiB/s\n",
      "Filtering content:  58% (7/12), 3.80 GiB | 4.19 MiB/s\n",
      "Filtering content:  58% (7/12), 7.00 GiB | 1.66 MiB/s\n",
      "Filtering content:  66% (8/12), 7.00 GiB | 1.66 MiB/s\n",
      "Filtering content:  66% (8/12), 10.20 GiB | 966.00 KiB/s\n",
      "Filtering content:  75% (9/12), 10.20 GiB | 966.00 KiB/s\n",
      "Filtering content:  75% (9/12), 14.18 GiB | 781.00 KiB/s\n",
      "Filtering content:  83% (10/12), 14.18 GiB | 781.00 KiB/s\n",
      "Filtering content:  83% (10/12), 18.15 GiB | 734.00 KiB/s\n",
      "Filtering content:  91% (11/12), 18.15 GiB | 734.00 KiB/s\n",
      "Filtering content:  91% (11/12), 21.32 GiB | 1.56 MiB/s  \n",
      "Filtering content: 100% (12/12), 21.32 GiB | 1.56 MiB/s\n",
      "Filtering content: 100% (12/12), 24.50 GiB | 1.12 MiB/s\n",
      "Filtering content: 100% (12/12), 24.50 GiB | 7.14 MiB/s, done.\n"
     ]
    }
   ],
   "source": [
    "!git lfs install\n",
    "!git clone https://huggingface.co/runwayml/stable-diffusion-v1-5"
   ],
   "metadata": {
    "collapsed": false,
    "ExecuteTime": {
     "end_time": "2023-06-01T16:33:53.427830900Z",
     "start_time": "2023-06-01T15:35:16.511187100Z"
    }
   }
  },
  {
   "cell_type": "code",
   "execution_count": 5,
   "outputs": [
    {
     "name": "stderr",
     "output_type": "stream",
     "text": [
      "text_encoder\\model.safetensors not found\n",
      "`text_config_dict` is provided which will be used to initialize `CLIPTextConfig`. The value `text_config[\"id2label\"]` will be overriden.\n"
     ]
    },
    {
     "data": {
      "text/plain": "[diffusers.schedulers.scheduling_euler_discrete.EulerDiscreteScheduler,\n diffusers.schedulers.scheduling_ddpm.DDPMScheduler,\n diffusers.schedulers.scheduling_pndm.PNDMScheduler,\n diffusers.schedulers.scheduling_lms_discrete.LMSDiscreteScheduler,\n diffusers.schedulers.scheduling_ddim.DDIMScheduler,\n diffusers.utils.dummy_torch_and_torchsde_objects.DPMSolverSDEScheduler,\n diffusers.schedulers.scheduling_dpmsolver_multistep.DPMSolverMultistepScheduler,\n diffusers.schedulers.scheduling_euler_ancestral_discrete.EulerAncestralDiscreteScheduler,\n diffusers.schedulers.scheduling_unipc_multistep.UniPCMultistepScheduler,\n diffusers.schedulers.scheduling_deis_multistep.DEISMultistepScheduler,\n diffusers.schedulers.scheduling_k_dpm_2_ancestral_discrete.KDPM2AncestralDiscreteScheduler,\n diffusers.schedulers.scheduling_dpmsolver_singlestep.DPMSolverSinglestepScheduler,\n diffusers.schedulers.scheduling_heun_discrete.HeunDiscreteScheduler,\n diffusers.schedulers.scheduling_k_dpm_2_discrete.KDPM2DiscreteScheduler]"
     },
     "execution_count": 5,
     "metadata": {},
     "output_type": "execute_result"
    }
   ],
   "source": [
    "from diffusers import DiffusionPipeline\n",
    "\n",
    "repo_id = \"runwayml/stable-diffusion-v1-5\"\n",
    "stable_diffusion = DiffusionPipeline.from_pretrained(repo_id)\n",
    "stable_diffusion.scheduler.compatibles"
   ],
   "metadata": {
    "collapsed": false,
    "ExecuteTime": {
     "end_time": "2023-06-01T17:04:49.594191200Z",
     "start_time": "2023-06-01T17:04:40.233361900Z"
    }
   }
  },
  {
   "cell_type": "code",
   "execution_count": 6,
   "outputs": [
    {
     "name": "stderr",
     "output_type": "stream",
     "text": [
      "text_encoder\\model.safetensors not found\n",
      "`text_config_dict` is provided which will be used to initialize `CLIPTextConfig`. The value `text_config[\"id2label\"]` will be overriden.\n"
     ]
    }
   ],
   "source": [
    "from diffusers import DiffusionPipeline, EulerDiscreteScheduler, DPMSolverMultistepScheduler\n",
    "\n",
    "repo_id = \"runwayml/stable-diffusion-v1-5\"\n",
    "\n",
    "scheduler = EulerDiscreteScheduler.from_pretrained(repo_id, subfolder=\"scheduler\")\n",
    "\n",
    "stable_diffusion = DiffusionPipeline.from_pretrained(repo_id, scheduler=scheduler)"
   ],
   "metadata": {
    "collapsed": false,
    "ExecuteTime": {
     "end_time": "2023-06-01T17:05:32.111564Z",
     "start_time": "2023-06-01T17:05:24.872837600Z"
    }
   }
  },
  {
   "cell_type": "code",
   "execution_count": 7,
   "outputs": [
    {
     "name": "stderr",
     "output_type": "stream",
     "text": [
      "text_encoder\\model.safetensors not found\n",
      "You have disabled the safety checker for <class 'diffusers.pipelines.stable_diffusion.pipeline_stable_diffusion.StableDiffusionPipeline'> by passing `safety_checker=None`. Ensure that you abide to the conditions of the Stable Diffusion license and do not expose unfiltered results in services or applications open to the public. Both the diffusers team and Hugging Face strongly recommend to keep the safety filter enabled in all public facing circumstances, disabling it only for use-cases that involve analyzing network behavior or auditing its results. For more information, please have a look at https://github.com/huggingface/diffusers/pull/254 .\n"
     ]
    }
   ],
   "source": [
    "from diffusers import DiffusionPipeline\n",
    "\n",
    "repo_id = \"runwayml/stable-diffusion-v1-5\"\n",
    "stable_diffusion = DiffusionPipeline.from_pretrained(repo_id, safety_checker=None)"
   ],
   "metadata": {
    "collapsed": false,
    "ExecuteTime": {
     "end_time": "2023-06-01T17:05:53.040029400Z",
     "start_time": "2023-06-01T17:05:48.195179700Z"
    }
   }
  },
  {
   "cell_type": "code",
   "execution_count": null,
   "outputs": [],
   "source": [],
   "metadata": {
    "collapsed": false
   }
  }
 ],
 "metadata": {
  "kernelspec": {
   "display_name": "Python 3",
   "language": "python",
   "name": "python3"
  },
  "language_info": {
   "codemirror_mode": {
    "name": "ipython",
    "version": 2
   },
   "file_extension": ".py",
   "mimetype": "text/x-python",
   "name": "python",
   "nbconvert_exporter": "python",
   "pygments_lexer": "ipython2",
   "version": "2.7.6"
  }
 },
 "nbformat": 4,
 "nbformat_minor": 0
}
